{
 "cells": [
  {
   "cell_type": "markdown",
   "metadata": {},
   "source": [
    "<h1>Imports"
   ]
  },
  {
   "cell_type": "code",
   "execution_count": 2,
   "metadata": {},
   "outputs": [],
   "source": [
    "import pandas as pd\n",
    "from pyspark.sql import  \\\n",
    "                        SparkSession,\\\n",
    "                        functions as F,\\\n",
    "                        DataFrame,\\\n",
    "                        Window\n"
   ]
  },
  {
   "cell_type": "markdown",
   "metadata": {},
   "source": [
    "<h3>Create spark session"
   ]
  },
  {
   "cell_type": "code",
   "execution_count": 3,
   "metadata": {},
   "outputs": [
    {
     "name": "stdout",
     "output_type": "stream",
     "text": [
      "<pyspark.sql.session.SparkSession object at 0x000002210C747860>\n"
     ]
    }
   ],
   "source": [
    "spark = (SparkSession.builder \n",
    "    .appName(\"regressao_logistica\") \n",
    "    .getOrCreate())\n",
    "print(spark)"
   ]
  },
  {
   "cell_type": "markdown",
   "metadata": {},
   "source": [
    "<h2>Code"
   ]
  },
  {
   "cell_type": "code",
   "execution_count": null,
   "metadata": {},
   "outputs": [],
   "source": [
    "spark = (SparkSession.builder \n",
    "    .appName(\"regressao_logistica\") \n",
    "    .getOrCreate())\n",
    "print(spark)"
   ]
  },
  {
   "cell_type": "code",
   "execution_count": 12,
   "metadata": {},
   "outputs": [
    {
     "name": "stderr",
     "output_type": "stream",
     "text": [
      "<>:1: SyntaxWarning: invalid escape sequence '\\.'\n",
      "<>:1: SyntaxWarning: invalid escape sequence '\\.'\n",
      "C:\\Users\\bield\\AppData\\Local\\Temp\\ipykernel_12312\\477831187.py:1: SyntaxWarning: invalid escape sequence '\\.'\n",
      "  df = spark.read.csv('..\\..\\datasets\\dados_introducao_regressao_logistica.csv')\n"
     ]
    }
   ],
   "source": [
    "df = spark.read.csv('..\\..\\datasets\\dados_introducao_regressao_logistica.csv')"
   ]
  },
  {
   "cell_type": "code",
   "execution_count": null,
   "metadata": {},
   "outputs": [],
   "source": [
    "import pandas as pd\n",
    "import numpy as np\n",
    "import seaborn as sns\n",
    "import matplotlib.pyplot as plt\n",
    "import statsmodels.api as sm\n",
    "\n",
    "# Creating the DataFrame from the provided data\n",
    "data = {\n",
    "    'Horas de Estudo/semana': [2, 4, 6, 8, 10, 12, 14, 16, 18, 20, 22, 24, 26, 28, 30],\n",
    "    'Aulas de Reforço': [0, 1, 1, 2, 2, 3, 3, 4, 4, 5, 5, 6, 6, 7, 8],\n",
    "    'Tarefas Entregues': [0, 0, 0, 0, 1, 1, 1, 1, 1, 1, 1, 1, 1, 1, 1],\n",
    "    'Passou': [0, 0, 0, 0, 1, 1, 1, 1, 1, 1, 1, 1, 1, 1, 1]\n",
    "}\n",
    "\n",
    "df = pd.DataFrame(data)\n",
    "\n",
    "# Preparing the data for logistic regression\n",
    "X = df[['Horas de Estudo/semana', 'Aulas de Reforço', 'Tarefas Entregues']]\n",
    "y = df['Passou']\n",
    "\n",
    "# Adding a constant to the model (intercept)\n",
    "X = sm.add_constant(X)\n",
    "\n",
    "# Fitting the logistic regression model\n",
    "logit_model = sm.Logit(y, X)\n",
    "result = logit_model.fit()\n",
    "\n",
    "# Predicting probabilities\n",
    "df['Probabilidade'] = result.predict(X)\n",
    "\n",
    "# Plotting\n",
    "plt.figure(figsize=(10, 6))\n",
    "sns.scatterplot(x='Horas de Estudo/semana', y='Passou', data=df, label='Passou (0=Não, 1=Sim)', color='blue')\n",
    "sns.lineplot(x='Horas de Estudo/semana', y='Probabilidade', data=df, label='Probabilidade de Aprovação', color='red')\n",
    "plt.title('Regressão Logística: Probabilidade de Passar vs. Horas de Estudo/semana')\n",
    "plt.xlabel('Horas de Estudo/semana')\n",
    "plt.ylabel('Passou (0=Não, 1=Sim)')\n",
    "plt.legend()\n",
    "plt.grid()\n",
    "plt.show()\n"
   ]
  },
  {
   "cell_type": "code",
   "execution_count": null,
   "metadata": {},
   "outputs": [],
   "source": [
    "# Retirando as variáveis que causaram a separação perfeita e utilizando apenas 'Horas de Estudo/semana'\n",
    "X_single = df[['Horas de Estudo/semana']]\n",
    "y_single = df['Passou']\n",
    "\n",
    "# Adicionando uma constante para o modelo\n",
    "X_single = sm.add_constant(X_single)\n",
    "\n",
    "# Ajustando o modelo de regressão logística\n",
    "logit_model_single = sm.Logit(y_single, X_single)\n",
    "result_single = logit_model_single.fit(disp=0)  # Disp=0 para não mostrar o output do ajuste\n",
    "\n",
    "# Predizendo as probabilidades\n",
    "df['Probabilidade'] = result_single.predict(X_single)\n",
    "\n",
    "# Plotando o gráfico de regressão logística\n",
    "plt.figure(figsize=(10, 6))\n",
    "sns.scatterplot(x='Horas de Estudo/semana', y='Passou', data=df, label='Passou (0=Não, 1=Sim)', color='blue')\n",
    "sns.lineplot(x='Horas de Estudo/semana', y='Probabilidade', data=df, label='Probabilidade de Aprovação', color='red')\n",
    "plt.title('Regressão Logística: Probabilidade de Passar vs. Horas de Estudo/semana')\n",
    "plt.xlabel('Horas de Estudo/semana')\n",
    "plt.ylabel('Passou (0=Não, 1=Sim)')\n",
    "plt.legend()\n",
    "plt.grid()\n",
    "plt.show()\n"
   ]
  }
 ],
 "metadata": {
  "kernelspec": {
   "display_name": "Python 3",
   "language": "python",
   "name": "python3"
  },
  "language_info": {
   "codemirror_mode": {
    "name": "ipython",
    "version": 3
   },
   "file_extension": ".py",
   "mimetype": "text/x-python",
   "name": "python",
   "nbconvert_exporter": "python",
   "pygments_lexer": "ipython3",
   "version": "3.12.4"
  }
 },
 "nbformat": 4,
 "nbformat_minor": 2
}
