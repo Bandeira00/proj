{
 "cells": [
  {
   "cell_type": "markdown",
   "metadata": {},
   "source": [
    "<h1>Imports"
   ]
  },
  {
   "cell_type": "code",
   "execution_count": 1,
   "metadata": {},
   "outputs": [],
   "source": [
    "import pandas as pd\n",
    "from pyspark.sql import (SparkSession,\n",
    "                        functions as F,\n",
    "                        DataFrame,\n",
    "                        Window)\n",
    "import matplotlib as plt\n"
   ]
  },
  {
   "cell_type": "markdown",
   "metadata": {},
   "source": [
    "<h3>Create spark session"
   ]
  },
  {
   "cell_type": "code",
   "execution_count": null,
   "metadata": {},
   "outputs": [],
   "source": [
    "\n",
    "spark = SparkSession.builder \\\n",
    "    .appName(\"Analises\") \\\n",
    "    .getOrCreate()\n",
    "spark\n"
   ]
  },
  {
   "cell_type": "markdown",
   "metadata": {},
   "source": [
    "<h2>Functions"
   ]
  },
  {
   "cell_type": "code",
   "execution_count": 3,
   "metadata": {},
   "outputs": [],
   "source": [
    "def takePandas(self, n):\n",
    "    rows = self.take(n)\n",
    "    df = pd.DataFrame(rows, columns=self.columns)\n",
    "    return df\n",
    "DataFrame.takePandas = takePandas\n"
   ]
  },
  {
   "cell_type": "code",
   "execution_count": 4,
   "metadata": {},
   "outputs": [],
   "source": [
    "def save_intermediary_step(df, path,mode=\"overwrite\"):\n",
    "        df.write.format(\"delta\").mode(mode).save(path)"
   ]
  },
  {
   "cell_type": "markdown",
   "metadata": {},
   "source": [
    "<h1>Code"
   ]
  },
  {
   "cell_type": "code",
   "execution_count": null,
   "metadata": {},
   "outputs": [],
   "source": [
    "df_lol = spark.read.csv(\"..\\..\\datasets\\League of legend Champions 2024.csv\",header=True)"
   ]
  },
  {
   "cell_type": "code",
   "execution_count": null,
   "metadata": {},
   "outputs": [],
   "source": [
    "df_lol.takePandas(10)"
   ]
  },
  {
   "cell_type": "code",
   "execution_count": null,
   "metadata": {},
   "outputs": [],
   "source": [
    "df_lol.printSchema()"
   ]
  },
  {
   "cell_type": "markdown",
   "metadata": {},
   "source": [
    "<h1> Roles distribution"
   ]
  },
  {
   "cell_type": "markdown",
   "metadata": {},
   "source": [
    "Pergunta: Quais papéis (Role) são mais comuns entre os campeões?<br>\n",
    "Insight: Distribuição percentual dos campeões por papel (ex.: Lutador, Mago, Suporte).<br>\n",
    "Benefício: Identificar qual categoria de campeões é mais dominante e se há algum desequilíbrio entre os papéis."
   ]
  },
  {
   "cell_type": "code",
   "execution_count": null,
   "metadata": {},
   "outputs": [],
   "source": [
    "df_lol.count()"
   ]
  },
  {
   "cell_type": "code",
   "execution_count": 9,
   "metadata": {},
   "outputs": [],
   "source": [
    "roles_distribution = (df_lol.withColumnRenamed(\"Classes\",\"classes\")\n",
    "                      .groupBy(\"classes\")\n",
    "                      .count()\n",
    "                      .withColumn(\"share\",F.col(\"count\")/df_lol.count())\n",
    "                      .withColumn(\"classes\",F.when(\n",
    "                                                    F.col(\"count\")<=1,F.lit(\"Others\")\n",
    "                                                  ).otherwise(F.col(\"classes\"))\n",
    "                                  )\n",
    "                      .groupBy(\"classes\",\"count\",\"share\")\n",
    "                      .agg(\n",
    "                          F.sum(F.col(\"count\")).alias(\"count_\"),\n",
    "                          F.sum(F.col(\"share\")).alias(\"share_\")\n",
    "                      )\n",
    "                      .orderBy(F.desc(\"count_\"))\n",
    "                      .drop(\"count\",\"share\")\n",
    "                      )\n",
    "\n",
    "pd_roles_distribution = roles_distribution.toPandas()"
   ]
  },
  {
   "cell_type": "code",
   "execution_count": null,
   "metadata": {},
   "outputs": [],
   "source": [
    "roles_distribution.takePandas(1)"
   ]
  },
  {
   "cell_type": "code",
   "execution_count": null,
   "metadata": {},
   "outputs": [],
   "source": [
    "fig, ax1 = plt.subplots(1,2,figsize=(18, 5))\n",
    "\n",
    "ax1[0].pie(pd_roles_distribution['share_'],labels = pd_roles_distribution['classes'], )\n",
    "bars = ax1[1].bar(pd_roles_distribution['classes'],pd_roles_distribution['count_'],label=\"classes count\")\n",
    "\n",
    "for bar in bars:\n",
    "    yval = bar.get_height()\n",
    "    ax1[1].text(bar.get_x() + bar.get_width()/2, yval, int(yval), ha='center', va='bottom')\n",
    "\n",
    "    \n",
    "ax1[0].set_title('Classes share')\n",
    "ax1[1].set_title('Classes count')\n",
    "\n",
    "\n",
    "\n",
    "plt.xticks(rotation=90)\n",
    "plt.tight_layout()\n"
   ]
  },
  {
   "cell_type": "code",
   "execution_count": null,
   "metadata": {},
   "outputs": [],
   "source": [
    "#just to exemplify ETL , extraction , transform ,  and now ... load \n",
    "save_intermediary_step(roles_distribution,path=\"..\\datasets\")"
   ]
  },
  {
   "cell_type": "code",
   "execution_count": null,
   "metadata": {},
   "outputs": [],
   "source": []
  }
 ],
 "metadata": {
  "kernelspec": {
   "display_name": "Python 3",
   "language": "python",
   "name": "python3"
  },
  "language_info": {
   "codemirror_mode": {
    "name": "ipython",
    "version": 3
   },
   "file_extension": ".py",
   "mimetype": "text/x-python",
   "name": "python",
   "nbconvert_exporter": "python",
   "pygments_lexer": "ipython3",
   "version": "3.12.4"
  }
 },
 "nbformat": 4,
 "nbformat_minor": 2
}
