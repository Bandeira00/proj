{
 "cells": [
  {
   "cell_type": "markdown",
   "metadata": {},
   "source": [
    "<h1>Imports"
   ]
  },
  {
   "cell_type": "code",
   "execution_count": 1,
   "metadata": {},
   "outputs": [],
   "source": [
    "import pandas as pd\n",
    "from pyspark.sql import SparkSession"
   ]
  },
  {
   "cell_type": "markdown",
   "metadata": {},
   "source": [
    "<h3>Create spark session"
   ]
  },
  {
   "cell_type": "code",
   "execution_count": 2,
   "metadata": {},
   "outputs": [
    {
     "name": "stdout",
     "output_type": "stream",
     "text": [
      "<pyspark.sql.session.SparkSession object at 0x0000028A94547170>\n"
     ]
    }
   ],
   "source": [
    "\n",
    "spark = SparkSession.builder \\\n",
    "    .appName(\"Analises\") \\\n",
    "    .getOrCreate()\n",
    "print(spark)\n"
   ]
  },
  {
   "cell_type": "markdown",
   "metadata": {},
   "source": [
    "<h2>Functions"
   ]
  },
  {
   "cell_type": "code",
   "execution_count": 14,
   "metadata": {},
   "outputs": [],
   "source": [
    "def takePandas(self, n):\n",
    "    rows = self.take(n)\n",
    "    df = pd.DataFrame(rows, columns=self.columns)\n",
    "    return df\n"
   ]
  },
  {
   "cell_type": "markdown",
   "metadata": {},
   "source": [
    "<h2>Code"
   ]
  },
  {
   "cell_type": "code",
   "execution_count": 12,
   "metadata": {},
   "outputs": [
    {
     "name": "stderr",
     "output_type": "stream",
     "text": [
      "<>:1: SyntaxWarning: invalid escape sequence '\\.'\n",
      "<>:1: SyntaxWarning: invalid escape sequence '\\.'\n",
      "C:\\Users\\bield\\AppData\\Local\\Temp\\ipykernel_25188\\539714992.py:1: SyntaxWarning: invalid escape sequence '\\.'\n",
      "  df = spark.read.csv(\"..\\..\\datasets\\Most Streamed Spotify Songs 2024.csv\",header=True)\n"
     ]
    }
   ],
   "source": [
    "df = spark.read.csv(\"..\\..\\datasets\\Most Streamed Spotify Songs 2024.csv\",header=True)"
   ]
  },
  {
   "cell_type": "code",
   "execution_count": 16,
   "metadata": {},
   "outputs": [
    {
     "data": {
      "text/html": [
       "<div>\n",
       "<style scoped>\n",
       "    .dataframe tbody tr th:only-of-type {\n",
       "        vertical-align: middle;\n",
       "    }\n",
       "\n",
       "    .dataframe tbody tr th {\n",
       "        vertical-align: top;\n",
       "    }\n",
       "\n",
       "    .dataframe thead th {\n",
       "        text-align: right;\n",
       "    }\n",
       "</style>\n",
       "<table border=\"1\" class=\"dataframe\">\n",
       "  <thead>\n",
       "    <tr style=\"text-align: right;\">\n",
       "      <th></th>\n",
       "      <th>Track</th>\n",
       "      <th>Album Name</th>\n",
       "      <th>Artist</th>\n",
       "      <th>Release Date</th>\n",
       "      <th>ISRC</th>\n",
       "      <th>All Time Rank</th>\n",
       "      <th>Track Score</th>\n",
       "      <th>Spotify Streams</th>\n",
       "      <th>Spotify Playlist Count</th>\n",
       "      <th>Spotify Playlist Reach</th>\n",
       "      <th>...</th>\n",
       "      <th>SiriusXM Spins</th>\n",
       "      <th>Deezer Playlist Count</th>\n",
       "      <th>Deezer Playlist Reach</th>\n",
       "      <th>Amazon Playlist Count</th>\n",
       "      <th>Pandora Streams</th>\n",
       "      <th>Pandora Track Stations</th>\n",
       "      <th>Soundcloud Streams</th>\n",
       "      <th>Shazam Counts</th>\n",
       "      <th>TIDAL Popularity</th>\n",
       "      <th>Explicit Track</th>\n",
       "    </tr>\n",
       "  </thead>\n",
       "  <tbody>\n",
       "    <tr>\n",
       "      <th>0</th>\n",
       "      <td>MILLION DOLLAR BABY</td>\n",
       "      <td>Million Dollar Baby - Single</td>\n",
       "      <td>Tommy Richman</td>\n",
       "      <td>4/26/2024</td>\n",
       "      <td>QM24S2402528</td>\n",
       "      <td>1</td>\n",
       "      <td>725.4</td>\n",
       "      <td>390,470,936</td>\n",
       "      <td>30,716</td>\n",
       "      <td>196,631,588</td>\n",
       "      <td>...</td>\n",
       "      <td>684</td>\n",
       "      <td>62</td>\n",
       "      <td>17,598,718</td>\n",
       "      <td>114</td>\n",
       "      <td>18,004,655</td>\n",
       "      <td>22,931</td>\n",
       "      <td>4,818,457</td>\n",
       "      <td>2,669,262</td>\n",
       "      <td>None</td>\n",
       "      <td>0</td>\n",
       "    </tr>\n",
       "  </tbody>\n",
       "</table>\n",
       "<p>1 rows × 29 columns</p>\n",
       "</div>"
      ],
      "text/plain": [
       "                 Track                    Album Name         Artist  \\\n",
       "0  MILLION DOLLAR BABY  Million Dollar Baby - Single  Tommy Richman   \n",
       "\n",
       "  Release Date          ISRC All Time Rank Track Score Spotify Streams  \\\n",
       "0    4/26/2024  QM24S2402528             1       725.4     390,470,936   \n",
       "\n",
       "  Spotify Playlist Count Spotify Playlist Reach  ... SiriusXM Spins  \\\n",
       "0                 30,716            196,631,588  ...            684   \n",
       "\n",
       "  Deezer Playlist Count Deezer Playlist Reach Amazon Playlist Count  \\\n",
       "0                    62            17,598,718                   114   \n",
       "\n",
       "  Pandora Streams Pandora Track Stations Soundcloud Streams Shazam Counts  \\\n",
       "0      18,004,655                 22,931          4,818,457     2,669,262   \n",
       "\n",
       "  TIDAL Popularity Explicit Track  \n",
       "0             None              0  \n",
       "\n",
       "[1 rows x 29 columns]"
      ]
     },
     "execution_count": 16,
     "metadata": {},
     "output_type": "execute_result"
    }
   ],
   "source": [
    "takePandas(df,1)"
   ]
  },
  {
   "cell_type": "code",
   "execution_count": null,
   "metadata": {},
   "outputs": [],
   "source": []
  }
 ],
 "metadata": {
  "kernelspec": {
   "display_name": "Python 3",
   "language": "python",
   "name": "python3"
  },
  "language_info": {
   "codemirror_mode": {
    "name": "ipython",
    "version": 3
   },
   "file_extension": ".py",
   "mimetype": "text/x-python",
   "name": "python",
   "nbconvert_exporter": "python",
   "pygments_lexer": "ipython3",
   "version": "3.12.4"
  }
 },
 "nbformat": 4,
 "nbformat_minor": 2
}
