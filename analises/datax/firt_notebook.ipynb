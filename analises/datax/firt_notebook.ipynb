{
 "cells": [
  {
   "cell_type": "markdown",
   "metadata": {},
   "source": [
    "<h1>Imports"
   ]
  },
  {
   "cell_type": "code",
   "execution_count": 43,
   "metadata": {},
   "outputs": [],
   "source": [
    "import pandas as pd\n",
    "from pyspark.sql import  \\\n",
    "                        SparkSession,\\\n",
    "                        functions as F,\\\n",
    "                        DataFrame,\\\n",
    "                        Window\n"
   ]
  },
  {
   "cell_type": "markdown",
   "metadata": {},
   "source": [
    "<h3>Create spark session"
   ]
  },
  {
   "cell_type": "code",
   "execution_count": 2,
   "metadata": {},
   "outputs": [
    {
     "name": "stdout",
     "output_type": "stream",
     "text": [
      "<pyspark.sql.session.SparkSession object at 0x0000028A94547170>\n"
     ]
    }
   ],
   "source": [
    "\n",
    "spark = SparkSession.builder \\\n",
    "    .appName(\"Analises\") \\\n",
    "    .getOrCreate()\n",
    "print(spark)\n"
   ]
  },
  {
   "cell_type": "markdown",
   "metadata": {},
   "source": [
    "<h2>Functions"
   ]
  },
  {
   "cell_type": "code",
   "execution_count": 33,
   "metadata": {},
   "outputs": [],
   "source": [
    "def takePandas(self, n):\n",
    "    rows = self.take(n)\n",
    "    df = pd.DataFrame(rows, columns=self.columns)\n",
    "    return df\n",
    "DataFrame.takePandas = takePandas\n"
   ]
  },
  {
   "cell_type": "markdown",
   "metadata": {},
   "source": [
    "<h2>Code"
   ]
  },
  {
   "cell_type": "code",
   "execution_count": 12,
   "metadata": {},
   "outputs": [
    {
     "name": "stderr",
     "output_type": "stream",
     "text": [
      "<>:1: SyntaxWarning: invalid escape sequence '\\.'\n",
      "<>:1: SyntaxWarning: invalid escape sequence '\\.'\n",
      "C:\\Users\\bield\\AppData\\Local\\Temp\\ipykernel_25188\\539714992.py:1: SyntaxWarning: invalid escape sequence '\\.'\n",
      "  df = spark.read.csv(\"..\\..\\datasets\\Most Streamed Spotify Songs 2024.csv\",header=True)\n"
     ]
    }
   ],
   "source": [
    "df = spark.read.csv(\"..\\..\\datasets\\Most Streamed Spotify Songs 2024.csv\",header=True)"
   ]
  },
  {
   "cell_type": "code",
   "execution_count": 38,
   "metadata": {},
   "outputs": [],
   "source": [
    "columnToSelect =['Track'\n",
    ",'Album Name'\n",
    ",'Artist'\n",
    ",'Release Date'\n",
    ",'All Time Rank'\n",
    ",'Track Score'\n",
    ",'Spotify Streams'\n",
    ",'Spotify Popularity'\n",
    ",'YouTube Views'\n",
    ",'YouTube Likes'\n",
    ",'TikTok Posts'\n",
    ",'TikTok Likes'\n",
    ",'TikTok Views'\n",
    ",'YouTube Playlist Reach'\n",
    ",'Apple Music Playlist Count'\n",
    ",'AirPlay Spins'\n",
    ",'SiriusXM Spins'\n",
    ",'Deezer Playlist Count'\n",
    ",'Deezer Playlist Reach'\n",
    ",'Amazon Playlist Count'\n",
    ",'Pandora Streams'\n",
    ",'Pandora Track Stations'\n",
    ",'Soundcloud Streams'\n",
    ",'Shazam Counts'\n",
    ",'TIDAL Popularity'\n",
    ",'Explicit Track']\n",
    "\n"
   ]
  },
  {
   "cell_type": "code",
   "execution_count": 40,
   "metadata": {},
   "outputs": [],
   "source": [
    "test = df.select(\"Artist\",\"Track\",\"Album Name\")"
   ]
  },
  {
   "cell_type": "code",
   "execution_count": 44,
   "metadata": {},
   "outputs": [],
   "source": [
    "w = Window.partitionBy(\"Artist\",\"Album Name\")"
   ]
  },
  {
   "cell_type": "code",
   "execution_count": 46,
   "metadata": {},
   "outputs": [],
   "source": [
    "test = test.withColumn(\"tracks_per_album\",F.count(\"*\").over(w))"
   ]
  },
  {
   "cell_type": "code",
   "execution_count": 55,
   "metadata": {},
   "outputs": [
    {
     "data": {
      "text/html": [
       "<div>\n",
       "<style scoped>\n",
       "    .dataframe tbody tr th:only-of-type {\n",
       "        vertical-align: middle;\n",
       "    }\n",
       "\n",
       "    .dataframe tbody tr th {\n",
       "        vertical-align: top;\n",
       "    }\n",
       "\n",
       "    .dataframe thead th {\n",
       "        text-align: right;\n",
       "    }\n",
       "</style>\n",
       "<table border=\"1\" class=\"dataframe\">\n",
       "  <thead>\n",
       "    <tr style=\"text-align: right;\">\n",
       "      <th></th>\n",
       "      <th>Artist</th>\n",
       "      <th>Track</th>\n",
       "      <th>Album Name</th>\n",
       "      <th>tracks_per_album</th>\n",
       "    </tr>\n",
       "  </thead>\n",
       "  <tbody>\n",
       "    <tr>\n",
       "      <th>0</th>\n",
       "      <td>Foster The People</td>\n",
       "      <td>Pumped Up Kicks</td>\n",
       "      <td>Pumped up Kicks</td>\n",
       "      <td>1</td>\n",
       "    </tr>\n",
       "    <tr>\n",
       "      <th>1</th>\n",
       "      <td>Foudeqush</td>\n",
       "      <td>Con La Brisa</td>\n",
       "      <td>Black Panther: Wakanda Forever - Music From an...</td>\n",
       "      <td>1</td>\n",
       "    </tr>\n",
       "    <tr>\n",
       "      <th>2</th>\n",
       "      <td>Foushe�</td>\n",
       "      <td>Deep End</td>\n",
       "      <td>Deep End</td>\n",
       "      <td>1</td>\n",
       "    </tr>\n",
       "  </tbody>\n",
       "</table>\n",
       "</div>"
      ],
      "text/plain": [
       "              Artist            Track  \\\n",
       "0  Foster The People  Pumped Up Kicks   \n",
       "1          Foudeqush     Con La Brisa   \n",
       "2            Foushe�         Deep End   \n",
       "\n",
       "                                          Album Name  tracks_per_album  \n",
       "0                                    Pumped up Kicks                 1  \n",
       "1  Black Panther: Wakanda Forever - Music From an...                 1  \n",
       "2                                           Deep End                 1  "
      ]
     },
     "execution_count": 55,
     "metadata": {},
     "output_type": "execute_result"
    }
   ],
   "source": [
    "test.filter(F.col(\"Artist\").rlike(\"(?i)^Fo\")).takePandas(10)"
   ]
  },
  {
   "cell_type": "code",
   "execution_count": null,
   "metadata": {},
   "outputs": [],
   "source": []
  },
  {
   "cell_type": "code",
   "execution_count": null,
   "metadata": {},
   "outputs": [],
   "source": []
  }
 ],
 "metadata": {
  "kernelspec": {
   "display_name": "Python 3",
   "language": "python",
   "name": "python3"
  },
  "language_info": {
   "codemirror_mode": {
    "name": "ipython",
    "version": 3
   },
   "file_extension": ".py",
   "mimetype": "text/x-python",
   "name": "python",
   "nbconvert_exporter": "python",
   "pygments_lexer": "ipython3",
   "version": "3.12.4"
  }
 },
 "nbformat": 4,
 "nbformat_minor": 2
}
