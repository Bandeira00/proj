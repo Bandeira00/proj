{
 "cells": [
  {
   "cell_type": "code",
   "execution_count": 1,
   "metadata": {},
   "outputs": [],
   "source": [
    "import os\n",
    "import pandas as pd\n",
    "from datetime import datetime, timedelta\n",
    "from pyspark.sql.types import StructType, StructField, IntegerType, StringType , FloatType\n",
    "import sys\n",
    "sys.path.append(r'/home/gabriel/Documents/proj/utils/')\n",
    "from utils import createSparkSesion\n",
    "from pyspark.sql import (functions as F,\n",
    "                                        Window)\n",
    "import matplotlib.pyplot as plt\n",
    "import pandas as pd"
   ]
  },
  {
   "cell_type": "code",
   "execution_count": 2,
   "metadata": {},
   "outputs": [
    {
     "name": "stderr",
     "output_type": "stream",
     "text": [
      "25/05/21 16:20:53 WARN Utils: Your hostname, GabrielUnbunto resolves to a loopback address: 127.0.1.1; using 10.0.2.15 instead (on interface enp0s3)\n",
      "25/05/21 16:20:53 WARN Utils: Set SPARK_LOCAL_IP if you need to bind to another address\n",
      "25/05/21 16:20:54 WARN NativeCodeLoader: Unable to load native-hadoop library for your platform... using builtin-java classes where applicable\n",
      "Setting default log level to \"WARN\".\n",
      "To adjust logging level use sc.setLogLevel(newLevel). For SparkR, use setLogLevel(newLevel).\n"
     ]
    },
    {
     "name": "stdout",
     "output_type": "stream",
     "text": [
      "<pyspark.sql.session.SparkSession object at 0x7fb7fb628790>\n"
     ]
    }
   ],
   "source": [
    "spark = createSparkSesion()"
   ]
  },
  {
   "cell_type": "markdown",
   "metadata": {},
   "source": [
    "<h1> Handlling Duplicates</h1>\n",
    "Write a code to find and remove duplicate rows from a df imployees"
   ]
  },
  {
   "cell_type": "code",
   "execution_count": 3,
   "metadata": {},
   "outputs": [
    {
     "name": "stdout",
     "output_type": "stream",
     "text": [
      "Requirement already satisfied: faker in /home/gabriel/.local/lib/python3.8/site-packages (35.2.2)\n",
      "Requirement already satisfied: python-dateutil>=2.4 in /home/gabriel/.local/lib/python3.8/site-packages (from faker) (2.9.0.post0)\n",
      "Requirement already satisfied: typing-extensions in /home/gabriel/.local/lib/python3.8/site-packages (from faker) (4.12.2)\n",
      "Requirement already satisfied: six>=1.5 in /usr/lib/python3/dist-packages (from python-dateutil>=2.4->faker) (1.14.0)\n",
      "Note: you may need to restart the kernel to use updated packages.\n"
     ]
    }
   ],
   "source": [
    "pip install faker\n"
   ]
  },
  {
   "cell_type": "code",
   "execution_count": 4,
   "metadata": {},
   "outputs": [],
   "source": [
    "from faker import Faker\n",
    "import random"
   ]
  },
  {
   "cell_type": "code",
   "execution_count": 5,
   "metadata": {},
   "outputs": [],
   "source": [
    "fake = Faker('pt_br')\n",
    "rand = random"
   ]
  },
  {
   "cell_type": "code",
   "execution_count": 6,
   "metadata": {},
   "outputs": [],
   "source": [
    "#mocking some data\n",
    "data   =  []\n",
    "schema =  StructType([StructField(\"name\", StringType(), False),\n",
    "                      StructField(\"cpf\", StringType(), False),\n",
    "                      StructField(\"id\", IntegerType(), False)])\n",
    "for i in range(100):\n",
    "   name = fake.name()\n",
    "   cpf  = fake.cpf()\n",
    "   id   = i\n",
    "   if rand.random() >= 0.1 :\n",
    "      data.append((name,cpf,id))\n",
    "   else:\n",
    "      data.append((name,cpf,id))\n",
    "      data.append((name,cpf,id))\n"
   ]
  },
  {
   "cell_type": "code",
   "execution_count": 7,
   "metadata": {},
   "outputs": [],
   "source": [
    "employees_df = spark.createDataFrame(data,schema = schema)"
   ]
  },
  {
   "cell_type": "code",
   "execution_count": 8,
   "metadata": {},
   "outputs": [
    {
     "name": "stderr",
     "output_type": "stream",
     "text": [
      "                                                                                \r"
     ]
    },
    {
     "name": "stdout",
     "output_type": "stream",
     "text": [
      "deduped : 100      ;      original:113\n"
     ]
    }
   ],
   "source": [
    "#solving easy mode kkk\n",
    "employees_df_solution_1 = employees_df.distinct()\n",
    "\n",
    "print(f'deduped : {employees_df_solution_1.count()}      ;      original:{employees_df.count()}')"
   ]
  },
  {
   "cell_type": "code",
   "execution_count": 9,
   "metadata": {},
   "outputs": [
    {
     "name": "stdout",
     "output_type": "stream",
     "text": [
      "deduped : 100      ;      original:113\n"
     ]
    }
   ],
   "source": [
    "#alternative mode , could be usefull in other cenarioes , such as , if  nao all the column having the exact same value\n",
    "\n",
    "dedup_window = Window.partitionBy(\"name\",\"cpf\").orderBy(\"name\")\n",
    "\n",
    "employees_df_solution_2  = (employees_df\n",
    "                              .withColumn(\"rn\", F.row_number().over(dedup_window))\n",
    "                              .filter(F.col(\"rn\") == 1))\n",
    "\n",
    "print(f'deduped : {employees_df_solution_2.count()}      ;      original:{employees_df.count()}')"
   ]
  },
  {
   "cell_type": "markdown",
   "metadata": {},
   "source": [
    "<h1>NUll value handling</h1>\n",
    "how would you replace a NULL value in the salary column of the employees table with the average salary"
   ]
  },
  {
   "cell_type": "code",
   "execution_count": 10,
   "metadata": {},
   "outputs": [],
   "source": [
    "#mocking some data\n",
    "data   =  []\n",
    "schema =  StructType([StructField(\"name\", StringType(), False),\n",
    "                      StructField(\"cpf\", StringType(), False),\n",
    "                      StructField(\"id\", IntegerType(), False),\n",
    "                      StructField(\"salary\", FloatType(), True)])\n",
    "for i in range(100):\n",
    "   name = fake.name()\n",
    "   cpf  = fake.cpf()\n",
    "   id   = i\n",
    "   salary = rand.uniform(1000 , 10000)\n",
    "   if rand.random() >= 0.1 :\n",
    "      data.append((name,cpf,id,salary))\n",
    "   else :\n",
    "      data.append((name,cpf,id,None))"
   ]
  },
  {
   "cell_type": "code",
   "execution_count": 11,
   "metadata": {},
   "outputs": [],
   "source": [
    "null_value_handling_df = spark.createDataFrame(data,schema=schema)"
   ]
  },
  {
   "cell_type": "code",
   "execution_count": null,
   "metadata": {},
   "outputs": [
    {
     "data": {
      "text/html": [
       "<div>\n",
       "<style scoped>\n",
       "    .dataframe tbody tr th:only-of-type {\n",
       "        vertical-align: middle;\n",
       "    }\n",
       "\n",
       "    .dataframe tbody tr th {\n",
       "        vertical-align: top;\n",
       "    }\n",
       "\n",
       "    .dataframe thead th {\n",
       "        text-align: right;\n",
       "    }\n",
       "</style>\n",
       "<table border=\"1\" class=\"dataframe\">\n",
       "  <thead>\n",
       "    <tr style=\"text-align: right;\">\n",
       "      <th></th>\n",
       "      <th>name</th>\n",
       "      <th>cpf</th>\n",
       "      <th>id</th>\n",
       "      <th>salary</th>\n",
       "      <th>new_salary</th>\n",
       "    </tr>\n",
       "  </thead>\n",
       "  <tbody>\n",
       "    <tr>\n",
       "      <th>0</th>\n",
       "      <td>Isadora Ribeiro</td>\n",
       "      <td>265.809.317-95</td>\n",
       "      <td>2</td>\n",
       "      <td>None</td>\n",
       "      <td>5953.355948</td>\n",
       "    </tr>\n",
       "    <tr>\n",
       "      <th>1</th>\n",
       "      <td>Sr. João Vieira</td>\n",
       "      <td>958.026.471-67</td>\n",
       "      <td>9</td>\n",
       "      <td>None</td>\n",
       "      <td>5953.355948</td>\n",
       "    </tr>\n",
       "    <tr>\n",
       "      <th>2</th>\n",
       "      <td>Isaac Nunes</td>\n",
       "      <td>482.673.501-44</td>\n",
       "      <td>10</td>\n",
       "      <td>None</td>\n",
       "      <td>5953.355948</td>\n",
       "    </tr>\n",
       "    <tr>\n",
       "      <th>3</th>\n",
       "      <td>Lucas Gabriel Brito</td>\n",
       "      <td>634.972.180-22</td>\n",
       "      <td>22</td>\n",
       "      <td>None</td>\n",
       "      <td>5953.355948</td>\n",
       "    </tr>\n",
       "    <tr>\n",
       "      <th>4</th>\n",
       "      <td>Pietro da Rosa</td>\n",
       "      <td>827.364.509-65</td>\n",
       "      <td>28</td>\n",
       "      <td>None</td>\n",
       "      <td>5953.355948</td>\n",
       "    </tr>\n",
       "    <tr>\n",
       "      <th>5</th>\n",
       "      <td>Gael Sá</td>\n",
       "      <td>816.490.752-94</td>\n",
       "      <td>31</td>\n",
       "      <td>None</td>\n",
       "      <td>5953.355948</td>\n",
       "    </tr>\n",
       "    <tr>\n",
       "      <th>6</th>\n",
       "      <td>Maria Helena Barros</td>\n",
       "      <td>436.582.071-08</td>\n",
       "      <td>37</td>\n",
       "      <td>None</td>\n",
       "      <td>5953.355948</td>\n",
       "    </tr>\n",
       "    <tr>\n",
       "      <th>7</th>\n",
       "      <td>Ryan Cirino</td>\n",
       "      <td>796.125.843-46</td>\n",
       "      <td>49</td>\n",
       "      <td>None</td>\n",
       "      <td>5953.355948</td>\n",
       "    </tr>\n",
       "    <tr>\n",
       "      <th>8</th>\n",
       "      <td>Beatriz Jesus</td>\n",
       "      <td>781.603.495-48</td>\n",
       "      <td>65</td>\n",
       "      <td>None</td>\n",
       "      <td>5953.355948</td>\n",
       "    </tr>\n",
       "    <tr>\n",
       "      <th>9</th>\n",
       "      <td>Diego Marques</td>\n",
       "      <td>407.315.962-34</td>\n",
       "      <td>66</td>\n",
       "      <td>None</td>\n",
       "      <td>5953.355948</td>\n",
       "    </tr>\n",
       "    <tr>\n",
       "      <th>10</th>\n",
       "      <td>Maria Luiza Melo</td>\n",
       "      <td>671.984.230-78</td>\n",
       "      <td>72</td>\n",
       "      <td>None</td>\n",
       "      <td>5953.355948</td>\n",
       "    </tr>\n",
       "    <tr>\n",
       "      <th>11</th>\n",
       "      <td>Dr. Enrico Almeida</td>\n",
       "      <td>712.603.584-53</td>\n",
       "      <td>74</td>\n",
       "      <td>None</td>\n",
       "      <td>5953.355948</td>\n",
       "    </tr>\n",
       "    <tr>\n",
       "      <th>12</th>\n",
       "      <td>Isaque Santos</td>\n",
       "      <td>947.025.813-41</td>\n",
       "      <td>75</td>\n",
       "      <td>None</td>\n",
       "      <td>5953.355948</td>\n",
       "    </tr>\n",
       "    <tr>\n",
       "      <th>13</th>\n",
       "      <td>João Felipe da Rocha</td>\n",
       "      <td>560.184.729-02</td>\n",
       "      <td>86</td>\n",
       "      <td>None</td>\n",
       "      <td>5953.355948</td>\n",
       "    </tr>\n",
       "    <tr>\n",
       "      <th>14</th>\n",
       "      <td>Eloá Nascimento</td>\n",
       "      <td>498.057.321-50</td>\n",
       "      <td>91</td>\n",
       "      <td>None</td>\n",
       "      <td>5953.355948</td>\n",
       "    </tr>\n",
       "  </tbody>\n",
       "</table>\n",
       "</div>"
      ],
      "text/plain": [
       "                    name             cpf  id salary   new_salary\n",
       "0        Isadora Ribeiro  265.809.317-95   2   None  5953.355948\n",
       "1        Sr. João Vieira  958.026.471-67   9   None  5953.355948\n",
       "2            Isaac Nunes  482.673.501-44  10   None  5953.355948\n",
       "3    Lucas Gabriel Brito  634.972.180-22  22   None  5953.355948\n",
       "4         Pietro da Rosa  827.364.509-65  28   None  5953.355948\n",
       "5                Gael Sá  816.490.752-94  31   None  5953.355948\n",
       "6    Maria Helena Barros  436.582.071-08  37   None  5953.355948\n",
       "7            Ryan Cirino  796.125.843-46  49   None  5953.355948\n",
       "8          Beatriz Jesus  781.603.495-48  65   None  5953.355948\n",
       "9          Diego Marques  407.315.962-34  66   None  5953.355948\n",
       "10      Maria Luiza Melo  671.984.230-78  72   None  5953.355948\n",
       "11    Dr. Enrico Almeida  712.603.584-53  74   None  5953.355948\n",
       "12         Isaque Santos  947.025.813-41  75   None  5953.355948\n",
       "13  João Felipe da Rocha  560.184.729-02  86   None  5953.355948\n",
       "14       Eloá Nascimento  498.057.321-50  91   None  5953.355948"
      ]
     },
     "execution_count": 12,
     "metadata": {},
     "output_type": "execute_result"
    }
   ],
   "source": [
    "#solving\n",
    "\n",
    "avg_salary  = null_value_handling_df.select(F.avg(\"salary\")).collect()[0][0]\n",
    "\n",
    "null_value_handling_df_solution_1 = null_value_handling_df.withColumn(\"new_salary\",F.when(F.col(\"salary\").isNull(),avg_salary).otherwise(F.col(\"salary\")))\n",
    "\n",
    "null_value_handling_df_solution_1.filter(F.col(\"salary\").isNull()).takePandas(20)"
   ]
  },
  {
   "cell_type": "code",
   "execution_count": 14,
   "metadata": {},
   "outputs": [
    {
     "data": {
      "text/html": [
       "<div>\n",
       "<style scoped>\n",
       "    .dataframe tbody tr th:only-of-type {\n",
       "        vertical-align: middle;\n",
       "    }\n",
       "\n",
       "    .dataframe tbody tr th {\n",
       "        vertical-align: top;\n",
       "    }\n",
       "\n",
       "    .dataframe thead th {\n",
       "        text-align: right;\n",
       "    }\n",
       "</style>\n",
       "<table border=\"1\" class=\"dataframe\">\n",
       "  <thead>\n",
       "    <tr style=\"text-align: right;\">\n",
       "      <th></th>\n",
       "      <th>name</th>\n",
       "      <th>cpf</th>\n",
       "      <th>id</th>\n",
       "      <th>salary</th>\n",
       "    </tr>\n",
       "  </thead>\n",
       "  <tbody>\n",
       "    <tr>\n",
       "      <th>0</th>\n",
       "      <td>0</td>\n",
       "      <td>0</td>\n",
       "      <td>0</td>\n",
       "      <td>15</td>\n",
       "    </tr>\n",
       "  </tbody>\n",
       "</table>\n",
       "</div>"
      ],
      "text/plain": [
       "   name  cpf  id  salary\n",
       "0     0    0   0      15"
      ]
     },
     "execution_count": 14,
     "metadata": {},
     "output_type": "execute_result"
    }
   ],
   "source": [
    "null_value_handling_df.count_nulls()"
   ]
  },
  {
   "cell_type": "code",
   "execution_count": 16,
   "metadata": {},
   "outputs": [
    {
     "data": {
      "text/html": [
       "<div>\n",
       "<style scoped>\n",
       "    .dataframe tbody tr th:only-of-type {\n",
       "        vertical-align: middle;\n",
       "    }\n",
       "\n",
       "    .dataframe tbody tr th {\n",
       "        vertical-align: top;\n",
       "    }\n",
       "\n",
       "    .dataframe thead th {\n",
       "        text-align: right;\n",
       "    }\n",
       "</style>\n",
       "<table border=\"1\" class=\"dataframe\">\n",
       "  <thead>\n",
       "    <tr style=\"text-align: right;\">\n",
       "      <th></th>\n",
       "      <th>name</th>\n",
       "      <th>cpf</th>\n",
       "      <th>id</th>\n",
       "      <th>salary</th>\n",
       "    </tr>\n",
       "  </thead>\n",
       "  <tbody>\n",
       "    <tr>\n",
       "      <th>0</th>\n",
       "      <td>0</td>\n",
       "      <td>0</td>\n",
       "      <td>0</td>\n",
       "      <td>0</td>\n",
       "    </tr>\n",
       "  </tbody>\n",
       "</table>\n",
       "</div>"
      ],
      "text/plain": [
       "   name  cpf  id  salary\n",
       "0     0    0   0       0"
      ]
     },
     "execution_count": 16,
     "metadata": {},
     "output_type": "execute_result"
    }
   ],
   "source": [
    "#solving 2\n",
    "\n",
    "avg_salary  = null_value_handling_df.select(F.avg(\"salary\")).collect()[0][0]\n",
    "\n",
    "fill_na_json = {\"salary\" : avg_salary}\n",
    "\n",
    "null_value_handling_df_solution_2 = null_value_handling_df.fillna(fill_na_json)\n",
    "\n",
    "null_value_handling_df_solution_2.count_nulls()"
   ]
  },
  {
   "cell_type": "code",
   "execution_count": null,
   "metadata": {},
   "outputs": [],
   "source": []
  }
 ],
 "metadata": {
  "kernelspec": {
   "display_name": "Python 3",
   "language": "python",
   "name": "python3"
  },
  "language_info": {
   "codemirror_mode": {
    "name": "ipython",
    "version": 3
   },
   "file_extension": ".py",
   "mimetype": "text/x-python",
   "name": "python",
   "nbconvert_exporter": "python",
   "pygments_lexer": "ipython3",
   "version": "3.8.10"
  }
 },
 "nbformat": 4,
 "nbformat_minor": 2
}
