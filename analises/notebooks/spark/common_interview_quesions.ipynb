{
 "cells": [
  {
   "cell_type": "code",
   "execution_count": 33,
   "metadata": {},
   "outputs": [],
   "source": [
    "import os\n",
    "import pandas as pd\n",
    "from datetime import datetime, timedelta\n",
    "from pyspark.sql.types import StructType, StructField, IntegerType, StringType , FloatType\n",
    "import sys\n",
    "sys.path.append(r'/home/gabriel/Documents/proj/utils/')\n",
    "from utils import createSparkSesion\n",
    "from pyspark.sql import (functions as F,\n",
    "                                        Window)\n",
    "import matplotlib.pyplot as plt\n",
    "import pandas as pd"
   ]
  },
  {
   "cell_type": "code",
   "execution_count": 2,
   "metadata": {},
   "outputs": [
    {
     "name": "stderr",
     "output_type": "stream",
     "text": [
      "25/05/20 23:12:45 WARN Utils: Your hostname, GabrielUnbunto resolves to a loopback address: 127.0.1.1; using 10.0.2.15 instead (on interface enp0s3)\n",
      "25/05/20 23:12:45 WARN Utils: Set SPARK_LOCAL_IP if you need to bind to another address\n",
      "25/05/20 23:12:45 WARN NativeCodeLoader: Unable to load native-hadoop library for your platform... using builtin-java classes where applicable\n",
      "Setting default log level to \"WARN\".\n",
      "To adjust logging level use sc.setLogLevel(newLevel). For SparkR, use setLogLevel(newLevel).\n",
      "25/05/20 23:12:46 WARN Utils: Service 'SparkUI' could not bind on port 4040. Attempting port 4041.\n"
     ]
    },
    {
     "name": "stdout",
     "output_type": "stream",
     "text": [
      "<pyspark.sql.session.SparkSession object at 0x7f034980a640>\n"
     ]
    }
   ],
   "source": [
    "spark = createSparkSesion()"
   ]
  },
  {
   "cell_type": "markdown",
   "metadata": {},
   "source": [
    "<h1> Handlling Duplicates</h1>\n",
    "Write a code to find and remove duplicate rows from a df imployees"
   ]
  },
  {
   "cell_type": "code",
   "execution_count": 3,
   "metadata": {},
   "outputs": [
    {
     "name": "stdout",
     "output_type": "stream",
     "text": [
      "Requirement already satisfied: faker in /home/gabriel/.local/lib/python3.8/site-packages (35.2.2)\n",
      "Requirement already satisfied: python-dateutil>=2.4 in /home/gabriel/.local/lib/python3.8/site-packages (from faker) (2.9.0.post0)\n",
      "Requirement already satisfied: typing-extensions in /home/gabriel/.local/lib/python3.8/site-packages (from faker) (4.12.2)\n",
      "Requirement already satisfied: six>=1.5 in /usr/lib/python3/dist-packages (from python-dateutil>=2.4->faker) (1.14.0)\n",
      "Note: you may need to restart the kernel to use updated packages.\n"
     ]
    }
   ],
   "source": [
    "pip install faker\n"
   ]
  },
  {
   "cell_type": "code",
   "execution_count": 4,
   "metadata": {},
   "outputs": [],
   "source": [
    "from faker import Faker\n",
    "import random"
   ]
  },
  {
   "cell_type": "code",
   "execution_count": 5,
   "metadata": {},
   "outputs": [],
   "source": [
    "fake = Faker('pt_br')\n",
    "rand = random"
   ]
  },
  {
   "cell_type": "code",
   "execution_count": 6,
   "metadata": {},
   "outputs": [],
   "source": [
    "#mocking some data\n",
    "data   =  []\n",
    "schema =  StructType([StructField(\"name\", StringType(), False),\n",
    "                      StructField(\"cpf\", StringType(), False),\n",
    "                      StructField(\"id\", IntegerType(), False)])\n",
    "for i in range(100):\n",
    "   name = fake.name()\n",
    "   cpf  = fake.cpf()\n",
    "   id   = i\n",
    "   if rand.random() >= 0.1 :\n",
    "      data.append((name,cpf,id))\n",
    "   else:\n",
    "      data.append((name,cpf,id))\n",
    "      data.append((name,cpf,id))\n"
   ]
  },
  {
   "cell_type": "code",
   "execution_count": 7,
   "metadata": {},
   "outputs": [],
   "source": [
    "employees_df = spark.createDataFrame(data,schema = schema)"
   ]
  },
  {
   "cell_type": "code",
   "execution_count": 8,
   "metadata": {},
   "outputs": [
    {
     "name": "stderr",
     "output_type": "stream",
     "text": [
      "                                                                                \r"
     ]
    },
    {
     "name": "stdout",
     "output_type": "stream",
     "text": [
      "deduped : 100      ;      original:106\n"
     ]
    }
   ],
   "source": [
    "#solving easy mode kkk\n",
    "employees_df_solution_1 = employees_df.distinct()\n",
    "\n",
    "print(f'deduped : {employees_df_solution_1.count()}      ;      original:{employees_df.count()}')"
   ]
  },
  {
   "cell_type": "code",
   "execution_count": 9,
   "metadata": {},
   "outputs": [
    {
     "name": "stdout",
     "output_type": "stream",
     "text": [
      "deduped : 100      ;      original:106\n"
     ]
    }
   ],
   "source": [
    "#alternative mode , could be usefull in other cenarioes , such as , if  nao all the column having the exact same value\n",
    "\n",
    "dedup_window = Window.partitionBy(\"name\",\"cpf\").orderBy(\"name\")\n",
    "\n",
    "employees_df_solution_2  = (employees_df\n",
    "                              .withColumn(\"rn\", F.row_number().over(dedup_window))\n",
    "                              .filter(F.col(\"rn\") == 1))\n",
    "\n",
    "print(f'deduped : {employees_df_solution_2.count()}      ;      original:{employees_df.count()}')"
   ]
  },
  {
   "cell_type": "markdown",
   "metadata": {},
   "source": [
    "<h1>NUll value handling</h1>\n",
    "how would you replace a NULL value in the salary column of the employees table with the average salary"
   ]
  },
  {
   "cell_type": "code",
   "execution_count": 40,
   "metadata": {},
   "outputs": [],
   "source": [
    "#mocking some data\n",
    "data   =  []\n",
    "schema =  StructType([StructField(\"name\", StringType(), False),\n",
    "                      StructField(\"cpf\", StringType(), False),\n",
    "                      StructField(\"id\", IntegerType(), False),\n",
    "                      StructField(\"salary\", FloatType(), True)])\n",
    "for i in range(100):\n",
    "   name = fake.name()\n",
    "   cpf  = fake.cpf()\n",
    "   id   = i\n",
    "   salary = rand.uniform(1000 , 10000)\n",
    "   if rand.random() >= 0.1 :\n",
    "      data.append((name,cpf,id,salary))\n",
    "   else :\n",
    "      data.append((name,cpf,id,None))"
   ]
  },
  {
   "cell_type": "code",
   "execution_count": 46,
   "metadata": {},
   "outputs": [],
   "source": [
    "null_value_handling_df = spark.createDataFrame(data,schema=schema)"
   ]
  },
  {
   "cell_type": "code",
   "execution_count": null,
   "metadata": {},
   "outputs": [
    {
     "data": {
      "text/html": [
       "<div>\n",
       "<style scoped>\n",
       "    .dataframe tbody tr th:only-of-type {\n",
       "        vertical-align: middle;\n",
       "    }\n",
       "\n",
       "    .dataframe tbody tr th {\n",
       "        vertical-align: top;\n",
       "    }\n",
       "\n",
       "    .dataframe thead th {\n",
       "        text-align: right;\n",
       "    }\n",
       "</style>\n",
       "<table border=\"1\" class=\"dataframe\">\n",
       "  <thead>\n",
       "    <tr style=\"text-align: right;\">\n",
       "      <th></th>\n",
       "      <th>name</th>\n",
       "      <th>cpf</th>\n",
       "      <th>id</th>\n",
       "      <th>salary</th>\n",
       "      <th>new_salary</th>\n",
       "    </tr>\n",
       "  </thead>\n",
       "  <tbody>\n",
       "    <tr>\n",
       "      <th>0</th>\n",
       "      <td>Pedro Machado</td>\n",
       "      <td>927.130.658-95</td>\n",
       "      <td>28</td>\n",
       "      <td>None</td>\n",
       "      <td>4724.345528</td>\n",
       "    </tr>\n",
       "    <tr>\n",
       "      <th>1</th>\n",
       "      <td>Emilly Nogueira</td>\n",
       "      <td>806.315.947-01</td>\n",
       "      <td>49</td>\n",
       "      <td>None</td>\n",
       "      <td>4724.345528</td>\n",
       "    </tr>\n",
       "    <tr>\n",
       "      <th>2</th>\n",
       "      <td>Vinicius Araújo</td>\n",
       "      <td>065.218.947-49</td>\n",
       "      <td>67</td>\n",
       "      <td>None</td>\n",
       "      <td>4724.345528</td>\n",
       "    </tr>\n",
       "    <tr>\n",
       "      <th>3</th>\n",
       "      <td>José Campos</td>\n",
       "      <td>598.417.603-39</td>\n",
       "      <td>74</td>\n",
       "      <td>None</td>\n",
       "      <td>4724.345528</td>\n",
       "    </tr>\n",
       "    <tr>\n",
       "      <th>4</th>\n",
       "      <td>Isaque Machado</td>\n",
       "      <td>501.729.863-03</td>\n",
       "      <td>76</td>\n",
       "      <td>None</td>\n",
       "      <td>4724.345528</td>\n",
       "    </tr>\n",
       "    <tr>\n",
       "      <th>5</th>\n",
       "      <td>Sra. Beatriz Cunha</td>\n",
       "      <td>849.731.052-79</td>\n",
       "      <td>85</td>\n",
       "      <td>None</td>\n",
       "      <td>4724.345528</td>\n",
       "    </tr>\n",
       "    <tr>\n",
       "      <th>6</th>\n",
       "      <td>Dra. Laura das Neves</td>\n",
       "      <td>812.940.753-14</td>\n",
       "      <td>92</td>\n",
       "      <td>None</td>\n",
       "      <td>4724.345528</td>\n",
       "    </tr>\n",
       "  </tbody>\n",
       "</table>\n",
       "</div>"
      ],
      "text/plain": [
       "                   name             cpf  id salary   new_salary\n",
       "0         Pedro Machado  927.130.658-95  28   None  4724.345528\n",
       "1       Emilly Nogueira  806.315.947-01  49   None  4724.345528\n",
       "2       Vinicius Araújo  065.218.947-49  67   None  4724.345528\n",
       "3           José Campos  598.417.603-39  74   None  4724.345528\n",
       "4        Isaque Machado  501.729.863-03  76   None  4724.345528\n",
       "5    Sra. Beatriz Cunha  849.731.052-79  85   None  4724.345528\n",
       "6  Dra. Laura das Neves  812.940.753-14  92   None  4724.345528"
      ]
     },
     "execution_count": 61,
     "metadata": {},
     "output_type": "execute_result"
    }
   ],
   "source": [
    "#solving\n",
    "\n",
    "avg_salary  = null_value_handling_df.select(F.avg(\"salary\")).collect()[0][0]\n",
    "\n",
    "null_value_handling_df_solution_1 = null_value_handling_df.withColumn(\"new_salary\",F.when(F.col(\"salary\").isNull(),avg_salary).otherwise(F.col(\"salary\")))\n",
    "\n",
    "null_value_handling_df_solution_1.filter(F.col(\"salary\").isNull()).takePandas(20)"
   ]
  },
  {
   "cell_type": "code",
   "execution_count": null,
   "metadata": {},
   "outputs": [],
   "source": []
  }
 ],
 "metadata": {
  "kernelspec": {
   "display_name": "Python 3",
   "language": "python",
   "name": "python3"
  },
  "language_info": {
   "codemirror_mode": {
    "name": "ipython",
    "version": 3
   },
   "file_extension": ".py",
   "mimetype": "text/x-python",
   "name": "python",
   "nbconvert_exporter": "python",
   "pygments_lexer": "ipython3",
   "version": "3.8.10"
  }
 },
 "nbformat": 4,
 "nbformat_minor": 2
}
