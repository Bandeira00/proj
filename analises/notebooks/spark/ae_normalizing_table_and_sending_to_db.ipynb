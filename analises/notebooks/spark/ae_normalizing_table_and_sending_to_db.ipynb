{
 "cells": [
  {
   "cell_type": "code",
   "execution_count": 12,
   "metadata": {},
   "outputs": [],
   "source": [
    "import os\n",
    "import pandas as pd\n",
    "from datetime import datetime, timedelta"
   ]
  },
  {
   "cell_type": "code",
   "execution_count": 13,
   "metadata": {},
   "outputs": [],
   "source": [
    "from pyspark.sql.types import StructType, StructField, IntegerType, StringType\n"
   ]
  },
  {
   "cell_type": "code",
   "execution_count": 14,
   "metadata": {},
   "outputs": [],
   "source": [
    "import sys\n",
    "sys.path.append(r'/home/gabriel/Documents/proj/utils/')\n",
    "\n",
    "from utils import createSparkSesion\n",
    "from pyspark.sql import (functions as F,\n",
    "                                        Window)\n",
    "import matplotlib.pyplot as plt\n",
    "import pandas as pd"
   ]
  },
  {
   "cell_type": "markdown",
   "metadata": {},
   "source": [
    "spark esta no python 3.8.10"
   ]
  },
  {
   "cell_type": "code",
   "execution_count": 15,
   "metadata": {},
   "outputs": [
    {
     "name": "stdout",
     "output_type": "stream",
     "text": [
      "<pyspark.sql.session.SparkSession object at 0x7f5177fc1730>\n"
     ]
    }
   ],
   "source": [
    "spark = createSparkSesion()"
   ]
  },
  {
   "cell_type": "code",
   "execution_count": 16,
   "metadata": {},
   "outputs": [
    {
     "data": {
      "text/html": [
       "\n",
       "            <div>\n",
       "                <p><b>SparkSession - in-memory</b></p>\n",
       "                \n",
       "        <div>\n",
       "            <p><b>SparkContext</b></p>\n",
       "\n",
       "            <p><a href=\"http://10.0.2.15:4041\">Spark UI</a></p>\n",
       "\n",
       "            <dl>\n",
       "              <dt>Version</dt>\n",
       "                <dd><code>v3.5.5</code></dd>\n",
       "              <dt>Master</dt>\n",
       "                <dd><code>local[*]</code></dd>\n",
       "              <dt>AppName</dt>\n",
       "                <dd><code>Analises</code></dd>\n",
       "            </dl>\n",
       "        </div>\n",
       "        \n",
       "            </div>\n",
       "        "
      ],
      "text/plain": [
       "<pyspark.sql.session.SparkSession at 0x7f5177fc1730>"
      ]
     },
     "execution_count": 16,
     "metadata": {},
     "output_type": "execute_result"
    }
   ],
   "source": [
    "spark"
   ]
  },
  {
   "cell_type": "code",
   "execution_count": 17,
   "metadata": {},
   "outputs": [],
   "source": [
    "prefix_path = \"/home/gabriel/Documents/local_datasets/raw/archive\"\n",
    "file        = \"athletes.csv\""
   ]
  },
  {
   "cell_type": "code",
   "execution_count": 18,
   "metadata": {},
   "outputs": [],
   "source": [
    "schema = StructType([\n",
    "    StructField(\"id\",               IntegerType(),  nullable=True),\n",
    "    StructField(\"name\",             StringType(),   nullable=True),\n",
    "    StructField(\"gender\",           StringType(),   nullable=True),\n",
    "    StructField(\"age\",              IntegerType(),  nullable=True),\n",
    "    StructField(\"height\",           IntegerType(),  nullable=True),\n",
    "    StructField(\"weight\",           IntegerType(),  nullable=True),\n",
    "    StructField(\"team\",             StringType(),   nullable=True),\n",
    "    StructField(\"noc\",              StringType(),   nullable=True),\n",
    "    StructField(\"games\",            StringType(),   nullable=True),\n",
    "    StructField(\"year\",             IntegerType(),  nullable=True),\n",
    "    StructField(\"season\",           StringType(),   nullable=True),\n",
    "    StructField(\"city\",             StringType(),   nullable=True),\n",
    "    StructField(\"sport\",            StringType(),   nullable=True),\n",
    "    StructField(\"event\",            StringType(),   nullable=True),\n",
    "    StructField(\"medal\",            StringType(),   nullable=True)\n",
    "])"
   ]
  },
  {
   "cell_type": "code",
   "execution_count": 19,
   "metadata": {},
   "outputs": [],
   "source": [
    "eda_df  = (spark.read\n",
    "           .csv(f\"{prefix_path}/{file}\",\n",
    "                  header=True, \n",
    "                  schema=schema)\n",
    "           .withColumnRenamed(\"noc\",\"team_prefix\"))"
   ]
  },
  {
   "cell_type": "code",
   "execution_count": 20,
   "metadata": {},
   "outputs": [
    {
     "name": "stderr",
     "output_type": "stream",
     "text": [
      "                                                                                \r"
     ]
    },
    {
     "data": {
      "text/plain": [
       "271116"
      ]
     },
     "execution_count": 20,
     "metadata": {},
     "output_type": "execute_result"
    }
   ],
   "source": [
    "eda_df.count()\n"
   ]
  },
  {
   "cell_type": "code",
   "execution_count": 21,
   "metadata": {},
   "outputs": [
    {
     "data": {
      "text/html": [
       "<div>\n",
       "<style scoped>\n",
       "    .dataframe tbody tr th:only-of-type {\n",
       "        vertical-align: middle;\n",
       "    }\n",
       "\n",
       "    .dataframe tbody tr th {\n",
       "        vertical-align: top;\n",
       "    }\n",
       "\n",
       "    .dataframe thead th {\n",
       "        text-align: right;\n",
       "    }\n",
       "</style>\n",
       "<table border=\"1\" class=\"dataframe\">\n",
       "  <thead>\n",
       "    <tr style=\"text-align: right;\">\n",
       "      <th></th>\n",
       "      <th>id</th>\n",
       "      <th>name</th>\n",
       "      <th>gender</th>\n",
       "      <th>age</th>\n",
       "      <th>height</th>\n",
       "      <th>weight</th>\n",
       "      <th>team</th>\n",
       "      <th>team_prefix</th>\n",
       "      <th>games</th>\n",
       "      <th>year</th>\n",
       "      <th>season</th>\n",
       "      <th>city</th>\n",
       "      <th>sport</th>\n",
       "      <th>event</th>\n",
       "      <th>medal</th>\n",
       "    </tr>\n",
       "  </thead>\n",
       "  <tbody>\n",
       "    <tr>\n",
       "      <th>0</th>\n",
       "      <td>1</td>\n",
       "      <td>A Dijiang</td>\n",
       "      <td>M</td>\n",
       "      <td>24</td>\n",
       "      <td>180.0</td>\n",
       "      <td>80.0</td>\n",
       "      <td>China</td>\n",
       "      <td>CHN</td>\n",
       "      <td>1992 Summer</td>\n",
       "      <td>1992</td>\n",
       "      <td>Summer</td>\n",
       "      <td>Barcelona</td>\n",
       "      <td>Basketball</td>\n",
       "      <td>Basketball Men's Basketball</td>\n",
       "      <td>NA</td>\n",
       "    </tr>\n",
       "    <tr>\n",
       "      <th>1</th>\n",
       "      <td>2</td>\n",
       "      <td>A Lamusi</td>\n",
       "      <td>M</td>\n",
       "      <td>23</td>\n",
       "      <td>170.0</td>\n",
       "      <td>60.0</td>\n",
       "      <td>China</td>\n",
       "      <td>CHN</td>\n",
       "      <td>2012 Summer</td>\n",
       "      <td>2012</td>\n",
       "      <td>Summer</td>\n",
       "      <td>London</td>\n",
       "      <td>Judo</td>\n",
       "      <td>Judo Men's Extra-Lightweight</td>\n",
       "      <td>NA</td>\n",
       "    </tr>\n",
       "    <tr>\n",
       "      <th>2</th>\n",
       "      <td>3</td>\n",
       "      <td>Gunnar Nielsen Aaby</td>\n",
       "      <td>M</td>\n",
       "      <td>24</td>\n",
       "      <td>NaN</td>\n",
       "      <td>NaN</td>\n",
       "      <td>Denmark</td>\n",
       "      <td>DEN</td>\n",
       "      <td>1920 Summer</td>\n",
       "      <td>1920</td>\n",
       "      <td>Summer</td>\n",
       "      <td>Antwerpen</td>\n",
       "      <td>Football</td>\n",
       "      <td>Football Men's Football</td>\n",
       "      <td>NA</td>\n",
       "    </tr>\n",
       "    <tr>\n",
       "      <th>3</th>\n",
       "      <td>4</td>\n",
       "      <td>Edgar Lindenau Aabye</td>\n",
       "      <td>M</td>\n",
       "      <td>34</td>\n",
       "      <td>NaN</td>\n",
       "      <td>NaN</td>\n",
       "      <td>Denmark/Sweden</td>\n",
       "      <td>DEN</td>\n",
       "      <td>1900 Summer</td>\n",
       "      <td>1900</td>\n",
       "      <td>Summer</td>\n",
       "      <td>Paris</td>\n",
       "      <td>Tug-Of-War</td>\n",
       "      <td>Tug-Of-War Men's Tug-Of-War</td>\n",
       "      <td>Gold</td>\n",
       "    </tr>\n",
       "    <tr>\n",
       "      <th>4</th>\n",
       "      <td>5</td>\n",
       "      <td>Christine Jacoba Aaftink</td>\n",
       "      <td>F</td>\n",
       "      <td>21</td>\n",
       "      <td>185.0</td>\n",
       "      <td>82.0</td>\n",
       "      <td>Netherlands</td>\n",
       "      <td>NED</td>\n",
       "      <td>1988 Winter</td>\n",
       "      <td>1988</td>\n",
       "      <td>Winter</td>\n",
       "      <td>Calgary</td>\n",
       "      <td>Speed Skating</td>\n",
       "      <td>Speed Skating Women's 500 metres</td>\n",
       "      <td>NA</td>\n",
       "    </tr>\n",
       "  </tbody>\n",
       "</table>\n",
       "</div>"
      ],
      "text/plain": [
       "   id                      name gender  age  height  weight            team  \\\n",
       "0   1                 A Dijiang      M   24   180.0    80.0           China   \n",
       "1   2                  A Lamusi      M   23   170.0    60.0           China   \n",
       "2   3       Gunnar Nielsen Aaby      M   24     NaN     NaN         Denmark   \n",
       "3   4      Edgar Lindenau Aabye      M   34     NaN     NaN  Denmark/Sweden   \n",
       "4   5  Christine Jacoba Aaftink      F   21   185.0    82.0     Netherlands   \n",
       "\n",
       "  team_prefix        games  year  season       city          sport  \\\n",
       "0         CHN  1992 Summer  1992  Summer  Barcelona     Basketball   \n",
       "1         CHN  2012 Summer  2012  Summer     London           Judo   \n",
       "2         DEN  1920 Summer  1920  Summer  Antwerpen       Football   \n",
       "3         DEN  1900 Summer  1900  Summer      Paris     Tug-Of-War   \n",
       "4         NED  1988 Winter  1988  Winter    Calgary  Speed Skating   \n",
       "\n",
       "                              event medal  \n",
       "0       Basketball Men's Basketball    NA  \n",
       "1      Judo Men's Extra-Lightweight    NA  \n",
       "2           Football Men's Football    NA  \n",
       "3       Tug-Of-War Men's Tug-Of-War  Gold  \n",
       "4  Speed Skating Women's 500 metres    NA  "
      ]
     },
     "execution_count": 21,
     "metadata": {},
     "output_type": "execute_result"
    }
   ],
   "source": [
    "eda_df.takePandas()"
   ]
  },
  {
   "cell_type": "markdown",
   "metadata": {},
   "source": [
    "<h1>Nomalization Diagram V1</h1>"
   ]
  },
  {
   "cell_type": "markdown",
   "metadata": {},
   "source": [
    "<img src=\"/home/gabriel/Documents/proj/src/imgs/diagramas_athletes_history.png\" width=\"700\">\n"
   ]
  },
  {
   "cell_type": "markdown",
   "metadata": {},
   "source": [
    "<h1>Creating normalized tables V1</h1>"
   ]
  },
  {
   "cell_type": "code",
   "execution_count": 22,
   "metadata": {},
   "outputs": [],
   "source": [
    "from pyspark.sql.functions import monotonically_increasing_id"
   ]
  },
  {
   "cell_type": "code",
   "execution_count": 23,
   "metadata": {},
   "outputs": [],
   "source": [
    "gender = (\n",
    "     eda_df\n",
    "          .select(\n",
    "               \n",
    "             (F.when(F.col(\"gender\")   == \"M\", \"Male\")\n",
    "               .when(F.col(\"gender\")   == \"F\", \"Female\")\n",
    "               .otherwise(\"Nao cadastrado\")\n",
    "               ).alias(\"gender\") \n",
    "          )\n",
    "          .distinct()\n",
    "          .withColumn(\"gender_id\",monotonically_increasing_id())\n",
    "          )"
   ]
  },
  {
   "cell_type": "code",
   "execution_count": 24,
   "metadata": {},
   "outputs": [],
   "source": [
    "team = (\n",
    "   eda_df\n",
    "      .select(\n",
    "         \"team\",\n",
    "         \"team_prefix\"\n",
    "      )\n",
    "      .distinct()\n",
    "      .withColumn(\"team_id\",monotonically_increasing_id())\n",
    ")"
   ]
  },
  {
   "cell_type": "code",
   "execution_count": 25,
   "metadata": {},
   "outputs": [],
   "source": [
    "athlete = (\n",
    "   eda_df\n",
    "      .select(\n",
    "         \"name\",\n",
    "         \"team\", # join drop\n",
    "         \"gender\", #join drop\n",
    "         \"team_prefix\", #join drop\n",
    "         \"height\",\n",
    "         \"weight\",\n",
    "         \"year\",\n",
    "         \"age\"\n",
    "      )\n",
    "      .distinct()\n",
    ")\n"
   ]
  },
  {
   "cell_type": "code",
   "execution_count": 26,
   "metadata": {},
   "outputs": [],
   "source": [
    "##mocking a birthday to replace the int age\n",
    "## dedup first\n",
    "## get the age less the year , getting some random month and day with a fixed seed and putting all together in a formated string , casting to date format\n",
    "athlete_deduped_window = Window.partitionBy(\"name\",\"team\",\"gender\").orderBy(\"age\")\n",
    "\n",
    "athlete_deduped = (\n",
    "   athlete\n",
    "      .withColumn(\"dedup_rn\",F.row_number().over(athlete_deduped_window))\n",
    "      .filter(F.col(\"dedup_rn\") == 1)\n",
    "      .drop(\"dedup_rn\")\n",
    "      .withColumn(\"day\", F.expr(\"cast(floor(rand(42) * 25 + 1) as INT)\"))\n",
    "      .withColumn(\"month\", F.expr(\"cast(floor(rand(42) * 12 + 1) as INT)\"))\n",
    "      .withColumn(\"birth\",F.to_date(F.format_string(\"%04d-%02d-%02d\",F.col(\"year\"),F.col(\"month\"),F.col(\"day\"))))\n",
    "      .select(\"name\",\"team\",\"team_prefix\",\"gender\",\"weight\",\"height\",\"birth\")\n",
    "      .withColumn(\"athlete_id\",monotonically_increasing_id())\n",
    ")\n"
   ]
  },
  {
   "cell_type": "code",
   "execution_count": 27,
   "metadata": {},
   "outputs": [],
   "source": [
    "normalized_athlete = (\n",
    "   athlete_deduped\n",
    "      .join(team, on = [\"team\",\"team_prefix\"], how = \"inner\")\n",
    "      .withColumn(\"gender\",F.when(F.col(\"gender\")==\"M\",\"Male\").otherwise(\"Female\"))\n",
    "      .join(gender, on = [\"gender\"])\n",
    "      .select(\"athlete_id\",\"gender_id\",\"name\",\"weight\",\"height\",\"birth\",\"team_id\")\n",
    ")\n",
    "#final table to create the table on db"
   ]
  },
  {
   "cell_type": "markdown",
   "metadata": {},
   "source": [
    "\n",
    " to do ; ver quantidade de medalhas em cada intervalo de tempo com lag na parte da analise"
   ]
  },
  {
   "cell_type": "code",
   "execution_count": 28,
   "metadata": {},
   "outputs": [],
   "source": [
    "city = (\n",
    "   eda_df\n",
    "      .select(\"city\")\n",
    "      .distinct()\n",
    "      .withColumn(\"city_id\",monotonically_increasing_id())\n",
    "      .withColumn(\"province_id\", F.lit(\"not avaliable\"))\n",
    ")"
   ]
  },
  {
   "cell_type": "code",
   "execution_count": 29,
   "metadata": {},
   "outputs": [],
   "source": [
    "sport = (\n",
    "   eda_df\n",
    "      .select(\"sport\")\n",
    "      .distinct()\n",
    "      .withColumn(\"sport_id\",monotonically_increasing_id())\n",
    ")"
   ]
  },
  {
   "cell_type": "code",
   "execution_count": 30,
   "metadata": {},
   "outputs": [],
   "source": [
    "event = (\n",
    "   eda_df\n",
    "      .select(\"city\",\n",
    "               \"year\",\n",
    "               \"season\",\n",
    "               \"sport\",\n",
    "               \"event\"\n",
    "              )\n",
    "      .distinct()\n",
    ")"
   ]
  },
  {
   "cell_type": "code",
   "execution_count": 31,
   "metadata": {},
   "outputs": [],
   "source": [
    "nomralized_event = (\n",
    "   event.select(\n",
    "      \"event\",\n",
    "      \"season\",\n",
    "      \"year\",\n",
    "      \"city\",\n",
    "      \"sport\"\n",
    "   )\n",
    "   .distinct()\n",
    "   .withColumn(\"event_id\",monotonically_increasing_id())\n",
    "   .join(city, on = [\"city\"],how = \"inner\")\n",
    "   .join(sport, on = [\"sport\"],how = \"inner\")\n",
    "   .drop(*['city','sport','province_id'])\n",
    ")"
   ]
  },
  {
   "cell_type": "code",
   "execution_count": 32,
   "metadata": {},
   "outputs": [],
   "source": [
    "athletes_history = (\n",
    "   eda_df\n",
    "      .join(normalized_athlete,on = ['name'],how='inner')\n",
    "      .join(nomralized_event,on = ['event'], how='inner')\n",
    "      .drop(*[\n",
    "         'name','gender','age','gender_id','birth','city_id','sport_id','weight','height','team','team_prefix','games','year','season','city','sport','event'\n",
    "         ])\n",
    "      .withColumnRenamed(\"id\",\"register_id\")\n",
    "      .distinct()\n",
    ")"
   ]
  },
  {
   "cell_type": "code",
   "execution_count": null,
   "metadata": {},
   "outputs": [],
   "source": [
    "tables_definitions = [\n",
    "   {\"table_name\": \"athlete\" ,           \"df_reference\" : normalized_athlete},\n",
    "   {\"table_name\": \"gender\" ,            \"df_reference\" : gender},\n",
    "   {\"table_name\": \"team\" ,              \"df_reference\" : team},\n",
    "   {\"table_name\": \"city\" ,              \"df_reference\" : city},\n",
    "   {\"table_name\": \"sport\" ,             \"df_reference\" : normalized_athlete},\n",
    "   {\"table_name\": \"nomralized_event\" ,  \"df_reference\" : normalized_athlete},\n",
    "   {\"table_name\": \"athletes_history\" ,  \"df_reference\" : athletes_history}]"
   ]
  },
  {
   "cell_type": "code",
   "execution_count": 41,
   "metadata": {},
   "outputs": [
    {
     "data": {
      "text/plain": [
       "DataFrame[athlete_id: bigint, gender_id: bigint, name: string, weight: int, height: int, birth: date, team_id: bigint]"
      ]
     },
     "execution_count": 41,
     "metadata": {},
     "output_type": "execute_result"
    }
   ],
   "source": [
    "tables_definitions[0]['df_reference']"
   ]
  },
  {
   "cell_type": "code",
   "execution_count": 42,
   "metadata": {},
   "outputs": [
    {
     "name": "stderr",
     "output_type": "stream",
     "text": [
      "25/05/20 20:47:53 WARN SparkStringUtils: Truncated the string representation of a plan since it was too large. This behavior can be adjusted by setting 'spark.sql.debug.maxToStringFields'.\n",
      "                                                                                \r"
     ]
    }
   ],
   "source": [
    "for definition in tables_definitions:\n",
    "   (definition['df_reference'].write \n",
    "    .format(\"jdbc\") \n",
    "    .option(\"url\", \"jdbc:postgresql://localhost:5432/general_purpose\") \n",
    "    .option(\"dbtable\", f\"{definition['table_name']}\") \n",
    "    .option(\"user\", \"postgres\") \n",
    "    .option(\"password\", \"30061725\") \n",
    "    .option(\"driver\", \"org.postgresql.Driver\") \n",
    "    .mode(\"overwrite\")   \n",
    "    .save())"
   ]
  }
 ],
 "metadata": {
  "kernelspec": {
   "display_name": "Python 3",
   "language": "python",
   "name": "python3"
  },
  "language_info": {
   "codemirror_mode": {
    "name": "ipython",
    "version": 3
   },
   "file_extension": ".py",
   "mimetype": "text/x-python",
   "name": "python",
   "nbconvert_exporter": "python",
   "pygments_lexer": "ipython3",
   "version": "3.8.10"
  }
 },
 "nbformat": 4,
 "nbformat_minor": 2
}
