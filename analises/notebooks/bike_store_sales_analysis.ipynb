{
 "cells": [
  {
   "cell_type": "code",
   "execution_count": 1,
   "metadata": {},
   "outputs": [],
   "source": [
    "# is a good pratice only import what you need in the notebook , ill refactor this later in these notebooks :)\n",
    "\n",
    "import sys\n",
    "sys.path.append(r'C:\\Users\\bield\\Documents\\projsData\\proj-1\\utils')\n",
    "from utils import (createSparkSesion,\n",
    "                  takePandas)\n",
    "from pyspark.sql import (functions as F,\n",
    "                        Window)\n",
    "import matplotlib.pyplot as plt\n",
    "\n"
   ]
  },
  {
   "cell_type": "code",
   "execution_count": 22,
   "metadata": {},
   "outputs": [],
   "source": [
    "sys.path.append(r'C:\\Users\\bield\\Documents\\projsData\\proj-1\\utils')"
   ]
  },
  {
   "cell_type": "code",
   "execution_count": 8,
   "metadata": {},
   "outputs": [
    {
     "name": "stdout",
     "output_type": "stream",
     "text": [
      "<pyspark.sql.session.SparkSession object at 0x000001FD0E0C12B0>\n"
     ]
    }
   ],
   "source": [
    "spark = createSparkSesion()"
   ]
  },
  {
   "cell_type": "code",
   "execution_count": null,
   "metadata": {},
   "outputs": [],
   "source": [
    "prefix = r\"../../datasets/download/Atividades/\"\n"
   ]
  },
  {
   "cell_type": "code",
   "execution_count": 30,
   "metadata": {},
   "outputs": [],
   "source": [
    "df_clients     = spark.read.parquet(f\"{prefix}/Clientes.parquet\")\n",
    "df_sales_itens = spark.read.parquet(f\"{prefix}/ItensVendas.parquet\")\n",
    "df_products    = spark.read.parquet(f\"{prefix}/Produtos.parquet\")\n",
    "df_sales       = spark.read.parquet(f\"{prefix}/Vendas.parquet\")\n",
    "df_seller      = spark.read.parquet(f\"{prefix}/Vendedores.parquet\")"
   ]
  },
  {
   "cell_type": "code",
   "execution_count": 31,
   "metadata": {},
   "outputs": [
    {
     "data": {
      "text/html": [
       "<div>\n",
       "<style scoped>\n",
       "    .dataframe tbody tr th:only-of-type {\n",
       "        vertical-align: middle;\n",
       "    }\n",
       "\n",
       "    .dataframe tbody tr th {\n",
       "        vertical-align: top;\n",
       "    }\n",
       "\n",
       "    .dataframe thead th {\n",
       "        text-align: right;\n",
       "    }\n",
       "</style>\n",
       "<table border=\"1\" class=\"dataframe\">\n",
       "  <thead>\n",
       "    <tr style=\"text-align: right;\">\n",
       "      <th></th>\n",
       "      <th>ClienteID</th>\n",
       "      <th>Cliente</th>\n",
       "      <th>Estado</th>\n",
       "      <th>Genero</th>\n",
       "      <th>Status</th>\n",
       "    </tr>\n",
       "  </thead>\n",
       "  <tbody>\n",
       "    <tr>\n",
       "      <th>0</th>\n",
       "      <td>1</td>\n",
       "      <td>Adelina Buenaventura</td>\n",
       "      <td>RJ</td>\n",
       "      <td>M</td>\n",
       "      <td>Silver</td>\n",
       "    </tr>\n",
       "    <tr>\n",
       "      <th>1</th>\n",
       "      <td>2</td>\n",
       "      <td>Adelino Gago</td>\n",
       "      <td>RJ</td>\n",
       "      <td>M</td>\n",
       "      <td>Silver</td>\n",
       "    </tr>\n",
       "  </tbody>\n",
       "</table>\n",
       "</div>"
      ],
      "text/plain": [
       "   ClienteID               Cliente Estado Genero  Status\n",
       "0          1  Adelina Buenaventura     RJ      M  Silver\n",
       "1          2          Adelino Gago     RJ      M  Silver"
      ]
     },
     "execution_count": 31,
     "metadata": {},
     "output_type": "execute_result"
    }
   ],
   "source": [
    "df_clients.takePandas(2)"
   ]
  },
  {
   "cell_type": "code",
   "execution_count": 33,
   "metadata": {},
   "outputs": [
    {
     "data": {
      "text/html": [
       "<div>\n",
       "<style scoped>\n",
       "    .dataframe tbody tr th:only-of-type {\n",
       "        vertical-align: middle;\n",
       "    }\n",
       "\n",
       "    .dataframe tbody tr th {\n",
       "        vertical-align: top;\n",
       "    }\n",
       "\n",
       "    .dataframe thead th {\n",
       "        text-align: right;\n",
       "    }\n",
       "</style>\n",
       "<table border=\"1\" class=\"dataframe\">\n",
       "  <thead>\n",
       "    <tr style=\"text-align: right;\">\n",
       "      <th></th>\n",
       "      <th>ProdutoID</th>\n",
       "      <th>VendasID</th>\n",
       "      <th>Quantidade</th>\n",
       "      <th>ValorUnitario</th>\n",
       "      <th>ValorTotal</th>\n",
       "      <th>Desconto</th>\n",
       "      <th>TotalComDesconto</th>\n",
       "    </tr>\n",
       "  </thead>\n",
       "  <tbody>\n",
       "    <tr>\n",
       "      <th>0</th>\n",
       "      <td>2</td>\n",
       "      <td>400</td>\n",
       "      <td>2</td>\n",
       "      <td>9201.0</td>\n",
       "      <td>18402.0</td>\n",
       "      <td>6256,68</td>\n",
       "      <td>12145.32</td>\n",
       "    </tr>\n",
       "    <tr>\n",
       "      <th>1</th>\n",
       "      <td>2</td>\n",
       "      <td>385</td>\n",
       "      <td>2</td>\n",
       "      <td>9201.0</td>\n",
       "      <td>18402.0</td>\n",
       "      <td>5704,62</td>\n",
       "      <td>12697.38</td>\n",
       "    </tr>\n",
       "  </tbody>\n",
       "</table>\n",
       "</div>"
      ],
      "text/plain": [
       "   ProdutoID  VendasID  Quantidade  ValorUnitario  ValorTotal Desconto  \\\n",
       "0          2       400           2         9201.0     18402.0  6256,68   \n",
       "1          2       385           2         9201.0     18402.0  5704,62   \n",
       "\n",
       "   TotalComDesconto  \n",
       "0          12145.32  \n",
       "1          12697.38  "
      ]
     },
     "execution_count": 33,
     "metadata": {},
     "output_type": "execute_result"
    }
   ],
   "source": [
    "df_sales_itens.takePandas(2)"
   ]
  },
  {
   "cell_type": "code",
   "execution_count": 34,
   "metadata": {},
   "outputs": [
    {
     "data": {
      "text/html": [
       "<div>\n",
       "<style scoped>\n",
       "    .dataframe tbody tr th:only-of-type {\n",
       "        vertical-align: middle;\n",
       "    }\n",
       "\n",
       "    .dataframe tbody tr th {\n",
       "        vertical-align: top;\n",
       "    }\n",
       "\n",
       "    .dataframe thead th {\n",
       "        text-align: right;\n",
       "    }\n",
       "</style>\n",
       "<table border=\"1\" class=\"dataframe\">\n",
       "  <thead>\n",
       "    <tr style=\"text-align: right;\">\n",
       "      <th></th>\n",
       "      <th>ProdutoID</th>\n",
       "      <th>Produto</th>\n",
       "      <th>Preco</th>\n",
       "    </tr>\n",
       "  </thead>\n",
       "  <tbody>\n",
       "    <tr>\n",
       "      <th>0</th>\n",
       "      <td>1</td>\n",
       "      <td>Bicicleta Aro 29 Mountain Bike Endorphine 6.3 ...</td>\n",
       "      <td>8.852,00</td>\n",
       "    </tr>\n",
       "    <tr>\n",
       "      <th>1</th>\n",
       "      <td>2</td>\n",
       "      <td>Bicicleta Altools Stroll Aro 26 Freio À Disco ...</td>\n",
       "      <td>9.201,00</td>\n",
       "    </tr>\n",
       "  </tbody>\n",
       "</table>\n",
       "</div>"
      ],
      "text/plain": [
       "   ProdutoID                                            Produto      Preco\n",
       "0          1  Bicicleta Aro 29 Mountain Bike Endorphine 6.3 ...  8.852,00 \n",
       "1          2  Bicicleta Altools Stroll Aro 26 Freio À Disco ...  9.201,00 "
      ]
     },
     "execution_count": 34,
     "metadata": {},
     "output_type": "execute_result"
    }
   ],
   "source": [
    "\n",
    "df_products.takePandas(2)"
   ]
  },
  {
   "cell_type": "code",
   "execution_count": 35,
   "metadata": {},
   "outputs": [
    {
     "data": {
      "text/html": [
       "<div>\n",
       "<style scoped>\n",
       "    .dataframe tbody tr th:only-of-type {\n",
       "        vertical-align: middle;\n",
       "    }\n",
       "\n",
       "    .dataframe tbody tr th {\n",
       "        vertical-align: top;\n",
       "    }\n",
       "\n",
       "    .dataframe thead th {\n",
       "        text-align: right;\n",
       "    }\n",
       "</style>\n",
       "<table border=\"1\" class=\"dataframe\">\n",
       "  <thead>\n",
       "    <tr style=\"text-align: right;\">\n",
       "      <th></th>\n",
       "      <th>VendasID</th>\n",
       "      <th>VendedorID</th>\n",
       "      <th>ClienteID</th>\n",
       "      <th>Data</th>\n",
       "      <th>Total</th>\n",
       "    </tr>\n",
       "  </thead>\n",
       "  <tbody>\n",
       "    <tr>\n",
       "      <th>0</th>\n",
       "      <td>1</td>\n",
       "      <td>1</td>\n",
       "      <td>91</td>\n",
       "      <td>1/1/2019</td>\n",
       "      <td>8053.6</td>\n",
       "    </tr>\n",
       "    <tr>\n",
       "      <th>1</th>\n",
       "      <td>2</td>\n",
       "      <td>6</td>\n",
       "      <td>185</td>\n",
       "      <td>1/1/2020</td>\n",
       "      <td>150.4</td>\n",
       "    </tr>\n",
       "  </tbody>\n",
       "</table>\n",
       "</div>"
      ],
      "text/plain": [
       "   VendasID  VendedorID  ClienteID      Data   Total\n",
       "0         1           1         91  1/1/2019  8053.6\n",
       "1         2           6        185  1/1/2020   150.4"
      ]
     },
     "execution_count": 35,
     "metadata": {},
     "output_type": "execute_result"
    }
   ],
   "source": [
    "df_sales.takePandas(2)"
   ]
  },
  {
   "cell_type": "code",
   "execution_count": 36,
   "metadata": {},
   "outputs": [
    {
     "data": {
      "text/html": [
       "<div>\n",
       "<style scoped>\n",
       "    .dataframe tbody tr th:only-of-type {\n",
       "        vertical-align: middle;\n",
       "    }\n",
       "\n",
       "    .dataframe tbody tr th {\n",
       "        vertical-align: top;\n",
       "    }\n",
       "\n",
       "    .dataframe thead th {\n",
       "        text-align: right;\n",
       "    }\n",
       "</style>\n",
       "<table border=\"1\" class=\"dataframe\">\n",
       "  <thead>\n",
       "    <tr style=\"text-align: right;\">\n",
       "      <th></th>\n",
       "      <th>VendedorID</th>\n",
       "      <th>Vendedor</th>\n",
       "    </tr>\n",
       "  </thead>\n",
       "  <tbody>\n",
       "    <tr>\n",
       "      <th>0</th>\n",
       "      <td>1</td>\n",
       "      <td>Armando Lago</td>\n",
       "    </tr>\n",
       "    <tr>\n",
       "      <th>1</th>\n",
       "      <td>2</td>\n",
       "      <td>Capitolino Bahía</td>\n",
       "    </tr>\n",
       "  </tbody>\n",
       "</table>\n",
       "</div>"
      ],
      "text/plain": [
       "   VendedorID          Vendedor\n",
       "0           1      Armando Lago\n",
       "1           2  Capitolino Bahía"
      ]
     },
     "execution_count": 36,
     "metadata": {},
     "output_type": "execute_result"
    }
   ],
   "source": [
    "df_seller.takePandas(2)"
   ]
  },
  {
   "cell_type": "code",
   "execution_count": null,
   "metadata": {},
   "outputs": [],
   "source": [
    "#my objective here is not to do a profund business analysis , just a few insights to build a pyspark code , and exemplify my abilities in build a ETL , desnormazile tables etc..."
   ]
  },
  {
   "cell_type": "code",
   "execution_count": null,
   "metadata": {},
   "outputs": [],
   "source": [
    "#to do\n",
    "\n",
    "#sales man metrics\n",
    "#with seller give more discounts\n",
    "#best sellers by month >by amount , by sales\n",
    "#objective  > identify best emplooyes ,for maybe a bonus , and find a possible corelation between give discounts, and be the best seller\n",
    "\n",
    "\n",
    "\n",
    "#clients metrics \n",
    "#top client , by amount , by recurrence\n",
    "#maybe detect with client we could offer discounts , or send marketing campaings etc...\n",
    "\n",
    "\n",
    "\n",
    "\n",
    "#store metrics:\n",
    "#month over month\n",
    "#month distribuition , by amount , by untary sales\n",
    "#understando general store metrics\n",
    "\n",
    "\n",
    "\n",
    "#product metrics:\n",
    "#top product , by unitys sold, by amount\n",
    "#understand which product we sell more , for some kind of storage managment , tendencies etc..\n",
    "\n"
   ]
  },
  {
   "cell_type": "markdown",
   "metadata": {},
   "source": [
    "<h1>Sellers metrics "
   ]
  },
  {
   "cell_type": "markdown",
   "metadata": {},
   "source": [
    "a maneger could use this etl to track sellers performance , for example"
   ]
  },
  {
   "cell_type": "code",
   "execution_count": null,
   "metadata": {},
   "outputs": [],
   "source": [
    "df_sellers_metrics  = (\n",
    "                        df_sales.join(df_seller,on=\"VendedorID\",how=\"left\")\n",
    "                                .join(df_sales_itens,on=\"VendasID\",how=\"left\")\n",
    "                                .select(\n",
    "                                        F.expr(\"VendasID as sale_id\"),\n",
    "                                        F.expr(\"Vendedor as seller_name\"),\n",
    "                                        F.expr(\"Total as total_sale_amount\"),\n",
    "                                        F.expr(\"ProdutoId as product_id\"),\n",
    "                                        F.expr(\"TotalComDesconto as item_final_price_with_discont\"),\n",
    "                                        F.expr(\"Desconto as discont\"),\n",
    "                                        F.expr(\"Data as date\")\n",
    "                                        )\n",
    "                                .withColumn(\"discont\",\n",
    "                                                        F.when(F.col(\"discont\").rlike(r\"-\"),0.00)\n",
    "                                                         .otherwise(\n",
    "                                                                        F.regexp_replace(F.col(\"discont\"),r\",\",r\".\")\n",
    "                                                                        .cast(\"double\")) # tratando os nulos\n",
    "                                            )\n",
    "                                .withColumn(\"date\",F.to_date(F.to_timestamp(F.col(\"date\"), \"d/M/yyyy\"))) # cast para time stamp facilita funcoes de calculo e operacoes com datas\n",
    "                        )\n"
   ]
  },
  {
   "cell_type": "code",
   "execution_count": null,
   "metadata": {},
   "outputs": [],
   "source": []
  },
  {
   "cell_type": "code",
   "execution_count": 103,
   "metadata": {},
   "outputs": [
    {
     "data": {
      "text/html": [
       "<div>\n",
       "<style scoped>\n",
       "    .dataframe tbody tr th:only-of-type {\n",
       "        vertical-align: middle;\n",
       "    }\n",
       "\n",
       "    .dataframe tbody tr th {\n",
       "        vertical-align: top;\n",
       "    }\n",
       "\n",
       "    .dataframe thead th {\n",
       "        text-align: right;\n",
       "    }\n",
       "</style>\n",
       "<table border=\"1\" class=\"dataframe\">\n",
       "  <thead>\n",
       "    <tr style=\"text-align: right;\">\n",
       "      <th></th>\n",
       "      <th>sale_id</th>\n",
       "      <th>seller_name</th>\n",
       "      <th>total_sale_amount</th>\n",
       "      <th>product_id</th>\n",
       "      <th>item_final_price_with_discont</th>\n",
       "      <th>discont</th>\n",
       "      <th>date</th>\n",
       "    </tr>\n",
       "  </thead>\n",
       "  <tbody>\n",
       "    <tr>\n",
       "      <th>0</th>\n",
       "      <td>1</td>\n",
       "      <td>Armando Lago</td>\n",
       "      <td>8053.6</td>\n",
       "      <td>2</td>\n",
       "      <td>7820.85</td>\n",
       "      <td>0.00</td>\n",
       "      <td>2019-01-01</td>\n",
       "    </tr>\n",
       "    <tr>\n",
       "      <th>1</th>\n",
       "      <td>1</td>\n",
       "      <td>Armando Lago</td>\n",
       "      <td>8053.6</td>\n",
       "      <td>9</td>\n",
       "      <td>96.77</td>\n",
       "      <td>0.98</td>\n",
       "      <td>2019-01-01</td>\n",
       "    </tr>\n",
       "  </tbody>\n",
       "</table>\n",
       "</div>"
      ],
      "text/plain": [
       "   sale_id   seller_name  total_sale_amount  product_id  \\\n",
       "0        1  Armando Lago             8053.6           2   \n",
       "1        1  Armando Lago             8053.6           9   \n",
       "\n",
       "   item_final_price_with_discont  discont        date  \n",
       "0                        7820.85     0.00  2019-01-01  \n",
       "1                          96.77     0.98  2019-01-01  "
      ]
     },
     "execution_count": 103,
     "metadata": {},
     "output_type": "execute_result"
    }
   ],
   "source": [
    "df_sellers_metrics.takePandas(2)"
   ]
  },
  {
   "cell_type": "code",
   "execution_count": 98,
   "metadata": {},
   "outputs": [
    {
     "name": "stdout",
     "output_type": "stream",
     "text": [
      "root\n",
      " |-- sale_id: long (nullable = true)\n",
      " |-- seller_name: string (nullable = true)\n",
      " |-- total_sale_amount: double (nullable = true)\n",
      " |-- product_id: long (nullable = true)\n",
      " |-- item_final_price_with_discont: double (nullable = true)\n",
      " |-- discont: double (nullable = true)\n",
      " |-- date: string (nullable = true)\n",
      "\n"
     ]
    }
   ],
   "source": [
    "df_sellers_metrics.printSchema()"
   ]
  },
  {
   "cell_type": "code",
   "execution_count": null,
   "metadata": {},
   "outputs": [],
   "source": []
  },
  {
   "cell_type": "code",
   "execution_count": 46,
   "metadata": {},
   "outputs": [
    {
     "data": {
      "text/html": [
       "<div>\n",
       "<style scoped>\n",
       "    .dataframe tbody tr th:only-of-type {\n",
       "        vertical-align: middle;\n",
       "    }\n",
       "\n",
       "    .dataframe tbody tr th {\n",
       "        vertical-align: top;\n",
       "    }\n",
       "\n",
       "    .dataframe thead th {\n",
       "        text-align: right;\n",
       "    }\n",
       "</style>\n",
       "<table border=\"1\" class=\"dataframe\">\n",
       "  <thead>\n",
       "    <tr style=\"text-align: right;\">\n",
       "      <th></th>\n",
       "      <th>ProdutoID</th>\n",
       "      <th>VendasID</th>\n",
       "      <th>Quantidade</th>\n",
       "      <th>ValorUnitario</th>\n",
       "      <th>ValorTotal</th>\n",
       "      <th>Desconto</th>\n",
       "      <th>TotalComDesconto</th>\n",
       "    </tr>\n",
       "  </thead>\n",
       "  <tbody>\n",
       "    <tr>\n",
       "      <th>0</th>\n",
       "      <td>10</td>\n",
       "      <td>1</td>\n",
       "      <td>1</td>\n",
       "      <td>135.00</td>\n",
       "      <td>135.00</td>\n",
       "      <td>1,35</td>\n",
       "      <td>133.65</td>\n",
       "    </tr>\n",
       "    <tr>\n",
       "      <th>1</th>\n",
       "      <td>9</td>\n",
       "      <td>1</td>\n",
       "      <td>1</td>\n",
       "      <td>97.75</td>\n",
       "      <td>97.75</td>\n",
       "      <td>0,98</td>\n",
       "      <td>96.77</td>\n",
       "    </tr>\n",
       "    <tr>\n",
       "      <th>2</th>\n",
       "      <td>2</td>\n",
       "      <td>1</td>\n",
       "      <td>1</td>\n",
       "      <td>7820.85</td>\n",
       "      <td>7820.85</td>\n",
       "      <td>-</td>\n",
       "      <td>7820.85</td>\n",
       "    </tr>\n",
       "  </tbody>\n",
       "</table>\n",
       "</div>"
      ],
      "text/plain": [
       "   ProdutoID  VendasID  Quantidade  ValorUnitario  ValorTotal Desconto  \\\n",
       "0         10         1           1         135.00      135.00     1,35   \n",
       "1          9         1           1          97.75       97.75     0,98   \n",
       "2          2         1           1        7820.85     7820.85      -     \n",
       "\n",
       "   TotalComDesconto  \n",
       "0            133.65  \n",
       "1             96.77  \n",
       "2           7820.85  "
      ]
     },
     "execution_count": 46,
     "metadata": {},
     "output_type": "execute_result"
    }
   ],
   "source": [
    "df_sales_itens.filter(F.col(\"VendasID\")==1).takePandas(20)"
   ]
  },
  {
   "cell_type": "code",
   "execution_count": null,
   "metadata": {},
   "outputs": [],
   "source": [
    "df_sales_itens.prion"
   ]
  }
 ],
 "metadata": {
  "kernelspec": {
   "display_name": "Python 3",
   "language": "python",
   "name": "python3"
  },
  "language_info": {
   "codemirror_mode": {
    "name": "ipython",
    "version": 3
   },
   "file_extension": ".py",
   "mimetype": "text/x-python",
   "name": "python",
   "nbconvert_exporter": "python",
   "pygments_lexer": "ipython3",
   "version": "3.12.4"
  }
 },
 "nbformat": 4,
 "nbformat_minor": 2
}
