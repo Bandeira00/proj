{
 "cells": [
  {
   "cell_type": "code",
   "execution_count": 53,
   "metadata": {},
   "outputs": [],
   "source": [
    "# is a good pratice only import what you need in the notebook , ill refactor this later in these notebooks :)\n",
    "\n",
    "import sys\n",
    "sys.path.append(r'C:\\Users\\bield\\Documents\\projsData\\proj-1\\utils')\n",
    "\n",
    "from utils import createSparkSesion\n",
    "from pyspark.sql import (functions as F,\n",
    "                                        Window)\n",
    "import matplotlib.pyplot as plt\n",
    "import pandas as pd\n",
    "\n"
   ]
  },
  {
   "cell_type": "code",
   "execution_count": 54,
   "metadata": {},
   "outputs": [
    {
     "name": "stdout",
     "output_type": "stream",
     "text": [
      "<pyspark.sql.session.SparkSession object at 0x00000143BC7E09D0>\n"
     ]
    }
   ],
   "source": [
    "spark = createSparkSesion()"
   ]
  },
  {
   "cell_type": "code",
   "execution_count": 55,
   "metadata": {},
   "outputs": [
    {
     "data": {
      "text/html": [
       "\n",
       "        <div>\n",
       "            <p><b>SparkContext</b></p>\n",
       "\n",
       "            <p><a href=\"http://Amante:4040\">Spark UI</a></p>\n",
       "\n",
       "            <dl>\n",
       "              <dt>Version</dt>\n",
       "                <dd><code>v3.5.0</code></dd>\n",
       "              <dt>Master</dt>\n",
       "                <dd><code>local[*]</code></dd>\n",
       "              <dt>AppName</dt>\n",
       "                <dd><code>Analises</code></dd>\n",
       "            </dl>\n",
       "        </div>\n",
       "        "
      ],
      "text/plain": [
       "<SparkContext master=local[*] appName=Analises>"
      ]
     },
     "execution_count": 55,
     "metadata": {},
     "output_type": "execute_result"
    }
   ],
   "source": [
    "spark.sparkContext"
   ]
  },
  {
   "cell_type": "code",
   "execution_count": 56,
   "metadata": {},
   "outputs": [],
   "source": [
    "def rename_columns(df, dic):\n",
    "    df_columns = df.columns\n",
    "\n",
    "    for column in df_columns:\n",
    "        try:\n",
    "            \n",
    "            new_name = dic[column]\n",
    "            df = df.withColumnRenamed(column, new_name)\n",
    "        except KeyError:\n",
    "            if column in dic.values():\n",
    "                print(\"column already renamed\")\n",
    "            else:\n",
    "                print(f\"column not found in dict {column} , {KeyError}\")#tratando erros\n",
    "\n",
    "    return df    "
   ]
  },
  {
   "cell_type": "code",
   "execution_count": 57,
   "metadata": {},
   "outputs": [],
   "source": [
    "#padronizando as colunas e deixando o entendimento mais facil por meio dos proprios nomes\n",
    "rename_columns_dic = {\n",
    "                    \"ProdutoID\"     :\"product_id\",\n",
    "                    \"VendasID\"      :\"sale_id\",\n",
    "                    \"Quantidade\"    :\"quantity\",\n",
    "                    \"ValorUnitario\" :\"unit_value\",\n",
    "                    \"ValorTotal\"    :\"total_value\",\n",
    "                    \"ClienteID\"     :\"customer_id\",\n",
    "                    \"Cliente\"       :\"customer_name\",\n",
    "                    \"Estado\"        :\"state\",\n",
    "                    \"Genero\"        :\"gender\",\n",
    "                    \"Status\"        :\"client_tier\",\n",
    "                    \"Produto\"       :\"product_name\",\n",
    "                    \"Preco\"         :\"price\",\n",
    "                    \"VendedorID\"    :\"seller_id\",\n",
    "                    \"Data\"          :\"date\",\n",
    "                    \"Total\"         :\"sale_total_amount\",\n",
    "                    \"Vendedor\"      :\"seller_name\",\n",
    "                    \"Desconto\"      :\"discount_amount\"\n",
    "                    }"
   ]
  },
  {
   "cell_type": "code",
   "execution_count": 58,
   "metadata": {},
   "outputs": [],
   "source": [
    "prefix = r\"../../datasets/download/Atividades/\"\n"
   ]
  },
  {
   "cell_type": "code",
   "execution_count": 59,
   "metadata": {},
   "outputs": [],
   "source": [
    "df_customers   = spark.read.parquet(f\"{prefix}/Clientes.parquet\")\n",
    "df_sales_itens = spark.read.parquet(f\"{prefix}/ItensVendas.parquet\")\n",
    "df_products    = spark.read.parquet(f\"{prefix}/Produtos.parquet\")\n",
    "df_sales       = spark.read.parquet(f\"{prefix}/Vendas.parquet\")\n",
    "df_seller      = spark.read.parquet(f\"{prefix}/Vendedores.parquet\")"
   ]
  },
  {
   "cell_type": "code",
   "execution_count": 60,
   "metadata": {},
   "outputs": [
    {
     "data": {
      "text/html": [
       "<div>\n",
       "<style scoped>\n",
       "    .dataframe tbody tr th:only-of-type {\n",
       "        vertical-align: middle;\n",
       "    }\n",
       "\n",
       "    .dataframe tbody tr th {\n",
       "        vertical-align: top;\n",
       "    }\n",
       "\n",
       "    .dataframe thead th {\n",
       "        text-align: right;\n",
       "    }\n",
       "</style>\n",
       "<table border=\"1\" class=\"dataframe\">\n",
       "  <thead>\n",
       "    <tr style=\"text-align: right;\">\n",
       "      <th></th>\n",
       "      <th>ClienteID</th>\n",
       "      <th>Cliente</th>\n",
       "      <th>Estado</th>\n",
       "      <th>Genero</th>\n",
       "      <th>Status</th>\n",
       "    </tr>\n",
       "  </thead>\n",
       "  <tbody>\n",
       "    <tr>\n",
       "      <th>0</th>\n",
       "      <td>1</td>\n",
       "      <td>Adelina Buenaventura</td>\n",
       "      <td>RJ</td>\n",
       "      <td>M</td>\n",
       "      <td>Silver</td>\n",
       "    </tr>\n",
       "    <tr>\n",
       "      <th>1</th>\n",
       "      <td>2</td>\n",
       "      <td>Adelino Gago</td>\n",
       "      <td>RJ</td>\n",
       "      <td>M</td>\n",
       "      <td>Silver</td>\n",
       "    </tr>\n",
       "  </tbody>\n",
       "</table>\n",
       "</div>"
      ],
      "text/plain": [
       "   ClienteID               Cliente Estado Genero  Status\n",
       "0          1  Adelina Buenaventura     RJ      M  Silver\n",
       "1          2          Adelino Gago     RJ      M  Silver"
      ]
     },
     "execution_count": 60,
     "metadata": {},
     "output_type": "execute_result"
    }
   ],
   "source": [
    "df_customers.takePandas(2)"
   ]
  },
  {
   "cell_type": "code",
   "execution_count": 61,
   "metadata": {},
   "outputs": [
    {
     "name": "stdout",
     "output_type": "stream",
     "text": [
      "root\n",
      " |-- ClienteID: long (nullable = true)\n",
      " |-- Cliente: string (nullable = true)\n",
      " |-- Estado: string (nullable = true)\n",
      " |-- Genero: string (nullable = true)\n",
      " |-- Status: string (nullable = true)\n",
      "\n"
     ]
    }
   ],
   "source": [
    "df_customers.printSchema()"
   ]
  },
  {
   "cell_type": "markdown",
   "metadata": {},
   "source": [
    "df_customers\n",
    "\n",
    "notes : \n",
    "\n",
    "customer_id as long type could be a problem in distributed systems ...\n"
   ]
  },
  {
   "cell_type": "code",
   "execution_count": 62,
   "metadata": {},
   "outputs": [
    {
     "data": {
      "text/html": [
       "<div>\n",
       "<style scoped>\n",
       "    .dataframe tbody tr th:only-of-type {\n",
       "        vertical-align: middle;\n",
       "    }\n",
       "\n",
       "    .dataframe tbody tr th {\n",
       "        vertical-align: top;\n",
       "    }\n",
       "\n",
       "    .dataframe thead th {\n",
       "        text-align: right;\n",
       "    }\n",
       "</style>\n",
       "<table border=\"1\" class=\"dataframe\">\n",
       "  <thead>\n",
       "    <tr style=\"text-align: right;\">\n",
       "      <th></th>\n",
       "      <th>ProdutoID</th>\n",
       "      <th>VendasID</th>\n",
       "      <th>Quantidade</th>\n",
       "      <th>ValorUnitario</th>\n",
       "      <th>ValorTotal</th>\n",
       "      <th>Desconto</th>\n",
       "      <th>TotalComDesconto</th>\n",
       "    </tr>\n",
       "  </thead>\n",
       "  <tbody>\n",
       "    <tr>\n",
       "      <th>0</th>\n",
       "      <td>2</td>\n",
       "      <td>400</td>\n",
       "      <td>2</td>\n",
       "      <td>9201.0</td>\n",
       "      <td>18402.0</td>\n",
       "      <td>6256,68</td>\n",
       "      <td>12145.32</td>\n",
       "    </tr>\n",
       "    <tr>\n",
       "      <th>1</th>\n",
       "      <td>2</td>\n",
       "      <td>385</td>\n",
       "      <td>2</td>\n",
       "      <td>9201.0</td>\n",
       "      <td>18402.0</td>\n",
       "      <td>5704,62</td>\n",
       "      <td>12697.38</td>\n",
       "    </tr>\n",
       "  </tbody>\n",
       "</table>\n",
       "</div>"
      ],
      "text/plain": [
       "   ProdutoID  VendasID  Quantidade  ValorUnitario  ValorTotal Desconto  \\\n",
       "0          2       400           2         9201.0     18402.0  6256,68   \n",
       "1          2       385           2         9201.0     18402.0  5704,62   \n",
       "\n",
       "   TotalComDesconto  \n",
       "0          12145.32  \n",
       "1          12697.38  "
      ]
     },
     "execution_count": 62,
     "metadata": {},
     "output_type": "execute_result"
    }
   ],
   "source": [
    "df_sales_itens.takePandas(2)"
   ]
  },
  {
   "cell_type": "code",
   "execution_count": 63,
   "metadata": {},
   "outputs": [
    {
     "name": "stdout",
     "output_type": "stream",
     "text": [
      "root\n",
      " |-- ProdutoID: long (nullable = true)\n",
      " |-- VendasID: long (nullable = true)\n",
      " |-- Quantidade: long (nullable = true)\n",
      " |-- ValorUnitario: double (nullable = true)\n",
      " |-- ValorTotal: double (nullable = true)\n",
      " |-- Desconto: string (nullable = true)\n",
      " |-- TotalComDesconto: double (nullable = true)\n",
      "\n"
     ]
    }
   ],
   "source": [
    "df_sales_itens.printSchema()"
   ]
  },
  {
   "cell_type": "markdown",
   "metadata": {},
   "source": [
    "df_sales_itens\n",
    "\n",
    "notes :\n",
    "\n",
    "discount_amount have \",\" , but the column total_discount has \".\" + one is a string a other a double , convert both to double"
   ]
  },
  {
   "cell_type": "code",
   "execution_count": 64,
   "metadata": {},
   "outputs": [
    {
     "data": {
      "text/html": [
       "<div>\n",
       "<style scoped>\n",
       "    .dataframe tbody tr th:only-of-type {\n",
       "        vertical-align: middle;\n",
       "    }\n",
       "\n",
       "    .dataframe tbody tr th {\n",
       "        vertical-align: top;\n",
       "    }\n",
       "\n",
       "    .dataframe thead th {\n",
       "        text-align: right;\n",
       "    }\n",
       "</style>\n",
       "<table border=\"1\" class=\"dataframe\">\n",
       "  <thead>\n",
       "    <tr style=\"text-align: right;\">\n",
       "      <th></th>\n",
       "      <th>ProdutoID</th>\n",
       "      <th>Produto</th>\n",
       "      <th>Preco</th>\n",
       "    </tr>\n",
       "  </thead>\n",
       "  <tbody>\n",
       "    <tr>\n",
       "      <th>0</th>\n",
       "      <td>1</td>\n",
       "      <td>Bicicleta Aro 29 Mountain Bike Endorphine 6.3 ...</td>\n",
       "      <td>8.852,00</td>\n",
       "    </tr>\n",
       "    <tr>\n",
       "      <th>1</th>\n",
       "      <td>2</td>\n",
       "      <td>Bicicleta Altools Stroll Aro 26 Freio À Disco ...</td>\n",
       "      <td>9.201,00</td>\n",
       "    </tr>\n",
       "  </tbody>\n",
       "</table>\n",
       "</div>"
      ],
      "text/plain": [
       "   ProdutoID                                            Produto      Preco\n",
       "0          1  Bicicleta Aro 29 Mountain Bike Endorphine 6.3 ...  8.852,00 \n",
       "1          2  Bicicleta Altools Stroll Aro 26 Freio À Disco ...  9.201,00 "
      ]
     },
     "execution_count": 64,
     "metadata": {},
     "output_type": "execute_result"
    }
   ],
   "source": [
    "df_products.takePandas(2)"
   ]
  },
  {
   "cell_type": "code",
   "execution_count": 65,
   "metadata": {},
   "outputs": [
    {
     "name": "stdout",
     "output_type": "stream",
     "text": [
      "root\n",
      " |-- ProdutoID: long (nullable = true)\n",
      " |-- Produto: string (nullable = true)\n",
      " |-- Preco: string (nullable = true)\n",
      "\n"
     ]
    }
   ],
   "source": [
    "df_products.printSchema()"
   ]
  },
  {
   "cell_type": "markdown",
   "metadata": {},
   "source": [
    "df_products\n",
    "\n",
    "note:\n",
    "\n",
    "price column is a string format , and have \",\" instead of \".\" , fix and convert\n"
   ]
  },
  {
   "cell_type": "code",
   "execution_count": 66,
   "metadata": {},
   "outputs": [
    {
     "data": {
      "text/html": [
       "<div>\n",
       "<style scoped>\n",
       "    .dataframe tbody tr th:only-of-type {\n",
       "        vertical-align: middle;\n",
       "    }\n",
       "\n",
       "    .dataframe tbody tr th {\n",
       "        vertical-align: top;\n",
       "    }\n",
       "\n",
       "    .dataframe thead th {\n",
       "        text-align: right;\n",
       "    }\n",
       "</style>\n",
       "<table border=\"1\" class=\"dataframe\">\n",
       "  <thead>\n",
       "    <tr style=\"text-align: right;\">\n",
       "      <th></th>\n",
       "      <th>VendasID</th>\n",
       "      <th>VendedorID</th>\n",
       "      <th>ClienteID</th>\n",
       "      <th>Data</th>\n",
       "      <th>Total</th>\n",
       "    </tr>\n",
       "  </thead>\n",
       "  <tbody>\n",
       "    <tr>\n",
       "      <th>0</th>\n",
       "      <td>1</td>\n",
       "      <td>1</td>\n",
       "      <td>91</td>\n",
       "      <td>1/1/2019</td>\n",
       "      <td>8053.6</td>\n",
       "    </tr>\n",
       "    <tr>\n",
       "      <th>1</th>\n",
       "      <td>2</td>\n",
       "      <td>6</td>\n",
       "      <td>185</td>\n",
       "      <td>1/1/2020</td>\n",
       "      <td>150.4</td>\n",
       "    </tr>\n",
       "  </tbody>\n",
       "</table>\n",
       "</div>"
      ],
      "text/plain": [
       "   VendasID  VendedorID  ClienteID      Data   Total\n",
       "0         1           1         91  1/1/2019  8053.6\n",
       "1         2           6        185  1/1/2020   150.4"
      ]
     },
     "execution_count": 66,
     "metadata": {},
     "output_type": "execute_result"
    }
   ],
   "source": [
    "df_sales.takePandas(2)"
   ]
  },
  {
   "cell_type": "code",
   "execution_count": 67,
   "metadata": {},
   "outputs": [
    {
     "name": "stdout",
     "output_type": "stream",
     "text": [
      "root\n",
      " |-- VendasID: long (nullable = true)\n",
      " |-- VendedorID: long (nullable = true)\n",
      " |-- ClienteID: long (nullable = true)\n",
      " |-- Data: string (nullable = true)\n",
      " |-- Total: double (nullable = true)\n",
      "\n"
     ]
    }
   ],
   "source": [
    "df_sales.printSchema()"
   ]
  },
  {
   "cell_type": "markdown",
   "metadata": {},
   "source": [
    "df_sales\n",
    "\n",
    "note:\n",
    "\n",
    "date column should be converted as timestamp ou date_time format"
   ]
  },
  {
   "cell_type": "code",
   "execution_count": 68,
   "metadata": {},
   "outputs": [
    {
     "data": {
      "text/html": [
       "<div>\n",
       "<style scoped>\n",
       "    .dataframe tbody tr th:only-of-type {\n",
       "        vertical-align: middle;\n",
       "    }\n",
       "\n",
       "    .dataframe tbody tr th {\n",
       "        vertical-align: top;\n",
       "    }\n",
       "\n",
       "    .dataframe thead th {\n",
       "        text-align: right;\n",
       "    }\n",
       "</style>\n",
       "<table border=\"1\" class=\"dataframe\">\n",
       "  <thead>\n",
       "    <tr style=\"text-align: right;\">\n",
       "      <th></th>\n",
       "      <th>VendedorID</th>\n",
       "      <th>Vendedor</th>\n",
       "    </tr>\n",
       "  </thead>\n",
       "  <tbody>\n",
       "    <tr>\n",
       "      <th>0</th>\n",
       "      <td>1</td>\n",
       "      <td>Armando Lago</td>\n",
       "    </tr>\n",
       "    <tr>\n",
       "      <th>1</th>\n",
       "      <td>2</td>\n",
       "      <td>Capitolino Bahía</td>\n",
       "    </tr>\n",
       "  </tbody>\n",
       "</table>\n",
       "</div>"
      ],
      "text/plain": [
       "   VendedorID          Vendedor\n",
       "0           1      Armando Lago\n",
       "1           2  Capitolino Bahía"
      ]
     },
     "execution_count": 68,
     "metadata": {},
     "output_type": "execute_result"
    }
   ],
   "source": [
    "df_seller.takePandas(2)"
   ]
  },
  {
   "cell_type": "code",
   "execution_count": 69,
   "metadata": {},
   "outputs": [
    {
     "name": "stdout",
     "output_type": "stream",
     "text": [
      "root\n",
      " |-- VendedorID: long (nullable = true)\n",
      " |-- Vendedor: string (nullable = true)\n",
      "\n"
     ]
    }
   ],
   "source": [
    "df_seller.printSchema()"
   ]
  },
  {
   "cell_type": "markdown",
   "metadata": {},
   "source": [
    "my objective here is not to do a profund business analysis , just a few insights to build a pyspark code , and exemplify my abilities in build a ETL , exploration data analysis (EDA), denormazile tables etc..."
   ]
  },
  {
   "cell_type": "code",
   "execution_count": 70,
   "metadata": {},
   "outputs": [],
   "source": [
    "#to do\n",
    "\n",
    "#sales mans metrics\n",
    "#with seller give more discounts\n",
    "#best sellers by month >by amount , by sales\n",
    "#objective  > identify best emplooyes ,for maybe a bonus , and find a possible corelation between give discounts, and be the best seller\n",
    "\n",
    "\n",
    "\n",
    "#customers metrics \n",
    "#top customer , by amount , by recurrence\n",
    "#maybe detect with customer we could offer discounts , send marketing campaings, trigger some fidelity bonus etc...\n",
    "\n",
    "#store metrics:\n",
    "#month over month\n",
    "#month distribuition , by amount , by untary sales\n",
    "#understando general store metrics\n",
    "\n",
    "\n",
    "\n",
    "#product metrics:\n",
    "#top product , by unitys sold, by amount\n",
    "#understand which product we sell more , for some kind of storage managment , tendencies etc..\n",
    "\n",
    "# put some graphs after all\n",
    "\n"
   ]
  },
  {
   "cell_type": "markdown",
   "metadata": {},
   "source": [
    "<h1>Sellers metrics "
   ]
  },
  {
   "cell_type": "markdown",
   "metadata": {},
   "source": [
    "a maneger could use this etl to track sellers performance , for example"
   ]
  },
  {
   "cell_type": "code",
   "execution_count": 71,
   "metadata": {},
   "outputs": [],
   "source": [
    "df_sellers_metrics  = (\n",
    "                        df_sales.join(df_seller,on=\"VendedorID\",how=\"left\")\n",
    "                                .join(df_sales_itens,on=\"VendasID\",how=\"left\")\n",
    "                                .select(\n",
    "                                        F.expr(\"VendasID as sale_id\"),\n",
    "                                        F.expr(\"Vendedor as seller_name\"),\n",
    "                                        F.expr(\"Total as total_sale_amount\"),\n",
    "                                        F.expr(\"ProdutoId as product_id\"),\n",
    "                                        F.expr(\"TotalComDesconto as item_final_price_with_discont\"),\n",
    "                                        F.expr(\"Desconto as discont\"),\n",
    "                                        F.expr(\"Data as date\")\n",
    "                                        )\n",
    "                                .withColumn(\"discont\",\n",
    "                                                        F.when(F.col(\"discont\").rlike(r\"-\"),0.00)\n",
    "                                                         .otherwise(\n",
    "                                                                        F.regexp_replace(F.col(\"discont\"),r\",\",r\".\")\n",
    "                                                                        .cast(\"double\")) # tratando os nulos\n",
    "                                            )\n",
    "                                .withColumn(\"date\",F.to_date(F.to_timestamp(F.col(\"date\"), \"d/M/yyyy\"))) # cast para time stamp facilita funcoes de calculo e operacoes com datas\n",
    "                                .withColumn(\"month\",F.month(F.col(\"date\")))\n",
    "                                .withColumn(\"year\",F.year(F.col(\"date\")))\n",
    "                                .drop(\"date\")\n",
    "                        )"
   ]
  },
  {
   "cell_type": "code",
   "execution_count": 72,
   "metadata": {},
   "outputs": [],
   "source": [
    "total_sales_value_window        = Window.partitionBy(\"month\",\"year\").orderBy(F.desc(\"total_sales_value\"))\n",
    "total_sales_window              = Window.partitionBy(\"month\",\"year\").orderBy(F.desc(\"total_sales\"))\n",
    "total_discount_given_window     = Window.partitionBy(\"month\",\"year\").orderBy(F.desc(\"total_discount_given\"))"
   ]
  },
  {
   "cell_type": "code",
   "execution_count": 73,
   "metadata": {},
   "outputs": [],
   "source": [
    "df_top_sellers = (df_sellers_metrics\n",
    "                        .groupBy(\"month\",\"year\",\"seller_name\")\n",
    "                        .agg(\n",
    "                            F.sum(\"total_sale_amount\").alias(\"total_sales_value\"),\n",
    "                            F.count(\"sale_id\").alias(\"total_sales\"),\n",
    "                            F.sum(\"discont\").alias(\"total_discount_given\")\n",
    "                            )\n",
    "                        .withColumn(\"rank_seller_by_amount\" ,F.rank().over(total_sales_value_window))\n",
    "                        .withColumn(\"rank_seller_by_sales\"  ,F.rank().over(total_sales_window))\n",
    "                        .withColumn(\"rank_seller_by_discont\",F.rank().over(total_discount_given_window))\n",
    "                        .select(\"month\",\"year\",\"seller_name\",\"total_sales_value\",\"rank_seller_by_amount\",\"total_sales\",\"rank_seller_by_sales\",\"total_discount_given\",\"rank_seller_by_discont\")#just to order column orders\n",
    "                        )"
   ]
  },
  {
   "cell_type": "code",
   "execution_count": 74,
   "metadata": {},
   "outputs": [
    {
     "data": {
      "text/html": [
       "<div>\n",
       "<style scoped>\n",
       "    .dataframe tbody tr th:only-of-type {\n",
       "        vertical-align: middle;\n",
       "    }\n",
       "\n",
       "    .dataframe tbody tr th {\n",
       "        vertical-align: top;\n",
       "    }\n",
       "\n",
       "    .dataframe thead th {\n",
       "        text-align: right;\n",
       "    }\n",
       "</style>\n",
       "<table border=\"1\" class=\"dataframe\">\n",
       "  <thead>\n",
       "    <tr style=\"text-align: right;\">\n",
       "      <th></th>\n",
       "      <th>month</th>\n",
       "      <th>year</th>\n",
       "      <th>seller_name</th>\n",
       "      <th>total_sales_value</th>\n",
       "      <th>rank_seller_by_amount</th>\n",
       "      <th>total_sales</th>\n",
       "      <th>rank_seller_by_sales</th>\n",
       "      <th>total_discount_given</th>\n",
       "      <th>rank_seller_by_discont</th>\n",
       "    </tr>\n",
       "  </thead>\n",
       "  <tbody>\n",
       "    <tr>\n",
       "      <th>0</th>\n",
       "      <td>1</td>\n",
       "      <td>2020</td>\n",
       "      <td>Hélio Liberato</td>\n",
       "      <td>18402.00</td>\n",
       "      <td>5</td>\n",
       "      <td>1</td>\n",
       "      <td>7</td>\n",
       "      <td>184.02</td>\n",
       "      <td>1</td>\n",
       "    </tr>\n",
       "    <tr>\n",
       "      <th>1</th>\n",
       "      <td>1</td>\n",
       "      <td>2020</td>\n",
       "      <td>Godo Capiperibe</td>\n",
       "      <td>47467.20</td>\n",
       "      <td>1</td>\n",
       "      <td>3</td>\n",
       "      <td>4</td>\n",
       "      <td>88.52</td>\n",
       "      <td>2</td>\n",
       "    </tr>\n",
       "    <tr>\n",
       "      <th>2</th>\n",
       "      <td>1</td>\n",
       "      <td>2020</td>\n",
       "      <td>Jéssica Castelão</td>\n",
       "      <td>37258.58</td>\n",
       "      <td>3</td>\n",
       "      <td>11</td>\n",
       "      <td>1</td>\n",
       "      <td>78.28</td>\n",
       "      <td>3</td>\n",
       "    </tr>\n",
       "    <tr>\n",
       "      <th>3</th>\n",
       "      <td>1</td>\n",
       "      <td>2020</td>\n",
       "      <td>Daniel Pirajá</td>\n",
       "      <td>40878.12</td>\n",
       "      <td>2</td>\n",
       "      <td>4</td>\n",
       "      <td>2</td>\n",
       "      <td>61.54</td>\n",
       "      <td>4</td>\n",
       "    </tr>\n",
       "    <tr>\n",
       "      <th>4</th>\n",
       "      <td>1</td>\n",
       "      <td>2020</td>\n",
       "      <td>Iberê Lacerda</td>\n",
       "      <td>9711.88</td>\n",
       "      <td>6</td>\n",
       "      <td>3</td>\n",
       "      <td>4</td>\n",
       "      <td>24.19</td>\n",
       "      <td>5</td>\n",
       "    </tr>\n",
       "    <tr>\n",
       "      <th>5</th>\n",
       "      <td>1</td>\n",
       "      <td>2020</td>\n",
       "      <td>Armando Lago</td>\n",
       "      <td>526.16</td>\n",
       "      <td>7</td>\n",
       "      <td>2</td>\n",
       "      <td>6</td>\n",
       "      <td>2.63</td>\n",
       "      <td>6</td>\n",
       "    </tr>\n",
       "    <tr>\n",
       "      <th>6</th>\n",
       "      <td>1</td>\n",
       "      <td>2020</td>\n",
       "      <td>Capitolino Bahía</td>\n",
       "      <td>33357.08</td>\n",
       "      <td>4</td>\n",
       "      <td>4</td>\n",
       "      <td>2</td>\n",
       "      <td>0.00</td>\n",
       "      <td>7</td>\n",
       "    </tr>\n",
       "  </tbody>\n",
       "</table>\n",
       "</div>"
      ],
      "text/plain": [
       "   month  year       seller_name  total_sales_value  rank_seller_by_amount  \\\n",
       "0      1  2020    Hélio Liberato           18402.00                      5   \n",
       "1      1  2020   Godo Capiperibe           47467.20                      1   \n",
       "2      1  2020  Jéssica Castelão           37258.58                      3   \n",
       "3      1  2020     Daniel Pirajá           40878.12                      2   \n",
       "4      1  2020     Iberê Lacerda            9711.88                      6   \n",
       "5      1  2020      Armando Lago             526.16                      7   \n",
       "6      1  2020  Capitolino Bahía           33357.08                      4   \n",
       "\n",
       "   total_sales  rank_seller_by_sales  total_discount_given  \\\n",
       "0            1                     7                184.02   \n",
       "1            3                     4                 88.52   \n",
       "2           11                     1                 78.28   \n",
       "3            4                     2                 61.54   \n",
       "4            3                     4                 24.19   \n",
       "5            2                     6                  2.63   \n",
       "6            4                     2                  0.00   \n",
       "\n",
       "   rank_seller_by_discont  \n",
       "0                       1  \n",
       "1                       2  \n",
       "2                       3  \n",
       "3                       4  \n",
       "4                       5  \n",
       "5                       6  \n",
       "6                       7  "
      ]
     },
     "execution_count": 74,
     "metadata": {},
     "output_type": "execute_result"
    }
   ],
   "source": [
    "df_top_sellers.filter((F.col(\"month\")==1)&(F.col(\"year\")==2020)).takePandas(20)"
   ]
  },
  {
   "cell_type": "code",
   "execution_count": 75,
   "metadata": {},
   "outputs": [],
   "source": [
    "# after all this ET(~L) process i could Load this date somewhere , maybe in a db where a manager could access  , schedulle this pipe on airflow etc.."
   ]
  },
  {
   "cell_type": "markdown",
   "metadata": {},
   "source": [
    "<h1>Customer metrics"
   ]
  },
  {
   "cell_type": "code",
   "execution_count": 76,
   "metadata": {},
   "outputs": [],
   "source": [
    " #clients metrics \n",
    "#top client , by amount , by recurrence\n",
    "#top item purchased by customer\n",
    "#maybe detect with client we could offer discounts , send marketing campaings, trigger some fidelity bonus, holidays campaings etc..."
   ]
  },
  {
   "cell_type": "markdown",
   "metadata": {},
   "source": [
    "Idealmente focando na performance , eu deveria desnormalizar olhando para os ids e posteriormente ja com o resultado esperado cruzar para obter os campos descritivos, para economizar memoria ram em um cenario de big data \n",
    "mas esse nao é o caso..."
   ]
  },
  {
   "cell_type": "markdown",
   "metadata": {},
   "source": [
    "data > timestamp > date\n",
    "desconto > tratar nulos\n"
   ]
  },
  {
   "cell_type": "code",
   "execution_count": 77,
   "metadata": {},
   "outputs": [
    {
     "name": "stdout",
     "output_type": "stream",
     "text": [
      "column not found in dict TotalComDesconto , <class 'KeyError'>\n"
     ]
    }
   ],
   "source": [
    "# isso deveria ter sido feito logo de primeira , so percebi posteriormente ,  mas mantive separado para demonstrar outras abordagens no codigo ...\n",
    "df_sales        = rename_columns(df_sales,       rename_columns_dic)\n",
    "df_sales_itens  = rename_columns(df_sales_itens, rename_columns_dic)\n",
    "df_products     = rename_columns(df_products,    rename_columns_dic)\n",
    "df_customers    = rename_columns(df_customers,   rename_columns_dic)"
   ]
  },
  {
   "cell_type": "code",
   "execution_count": 78,
   "metadata": {},
   "outputs": [],
   "source": [
    "df_customers_metrics = (  df_customers.join(df_sales,on=\"customer_id\",how=\"left\")\n",
    "                                   .join(df_sales_itens,on=\"sale_id\",how=\"left\")\n",
    "                                   .join(df_products,on=\"product_id\",how=\"left\")\n",
    "                                   .withColumn(\"date\",F.to_date(F.to_timestamp(F.col(\"date\"),\"d/m/yyyy\")))\n",
    "                                   .withColumn(\"month\",F.month(F.col(\"date\")))\n",
    "                                   .withColumn(\"year\",F.year(F.col(\"date\")))\n",
    "                                   .drop(\"product_id\",\"customer_id\",\"seler_id\",\"date\")\n",
    "                                   .withColumn(\n",
    "                                                \"discount_amount\",\n",
    "                                                F.when(\n",
    "                                                    (F.col(\"discount_amount\").rlike(r\"-\")) | (F.col(\"discount_amount\") == \"\"),\n",
    "                                                    0.00\n",
    "                                                ).otherwise(\n",
    "                                                    F.regexp_replace(F.col(\"discount_amount\"), r\",\", r\".\").cast(\"double\")\n",
    "                                                )  # tratando os nulos  \n",
    "                                            )\n",
    "    \n",
    "                        )"
   ]
  },
  {
   "cell_type": "code",
   "execution_count": 79,
   "metadata": {},
   "outputs": [],
   "source": [
    "rank_customer_by_amount_spend_window        = Window.partitionBy(\"month\",\"year\").orderBy(F.desc(\"customer_total_spend\"),F.desc(\"customer_total_purchases\"),F.desc(\"customer_total_discount_amount\"))\n",
    "rank_customer_by_total_purchases_window     = Window.partitionBy(\"month\",\"year\").orderBy(F.desc(\"customer_total_purchases\"),F.desc(\"customer_total_spend\"),F.desc(\"customer_total_discount_amount\"))\n",
    "rank_customer_by_discount_recived_window    = Window.partitionBy(\"month\",\"year\").orderBy(F.desc(\"customer_total_discount_amount\"),F.desc(F.col(\"discount_share\")))#priorizar pelo menor share de desconto\n",
    "\n",
    "columnOrderFinal = [\"year\",\"month\",\"customer_name\",\"customer_total_spend\",\"rank_customer_by_amount\",\"customer_total_purchases\",\"rank_customer_by_total_purchases\",\"customer_total_discount_amount\",\"rank_customer_by_discount_recived\"]"
   ]
  },
  {
   "cell_type": "code",
   "execution_count": 80,
   "metadata": {},
   "outputs": [],
   "source": [
    "df_top_customers  = (df_customers_metrics\n",
    "                        .groupBy(\"month\",\"year\",\"customer_name\")\n",
    "                        .agg(\n",
    "                            F.sum(F.col(\"sale_total_amount\")).alias(\"customer_total_spend\"),\n",
    "                            F.count(F.col(\"sale_id\")).alias(\"customer_total_purchases\"),\n",
    "                            F.sum(F.col(\"discount_amount\")).alias(\"customer_total_discount_amount\")\n",
    "                            \n",
    "                        )\n",
    "                        .withColumn(\"discount_share\",F.expr(\"cast(customer_total_discount_amount as int)/customer_total_purchases\"))\n",
    "                        .withColumn(\"rank_customer_by_amount\",F.rank().over(rank_customer_by_amount_spend_window))\n",
    "                        .withColumn(\"rank_customer_by_total_purchases\",F.rank().over(rank_customer_by_total_purchases_window))\n",
    "                        .withColumn(\"rank_customer_by_discount_recived\",F.rank().over(rank_customer_by_discount_recived_window))\n",
    "                        .select(*columnOrderFinal)\n",
    "                     )"
   ]
  },
  {
   "cell_type": "code",
   "execution_count": 81,
   "metadata": {},
   "outputs": [
    {
     "data": {
      "text/html": [
       "<div>\n",
       "<style scoped>\n",
       "    .dataframe tbody tr th:only-of-type {\n",
       "        vertical-align: middle;\n",
       "    }\n",
       "\n",
       "    .dataframe tbody tr th {\n",
       "        vertical-align: top;\n",
       "    }\n",
       "\n",
       "    .dataframe thead th {\n",
       "        text-align: right;\n",
       "    }\n",
       "</style>\n",
       "<table border=\"1\" class=\"dataframe\">\n",
       "  <thead>\n",
       "    <tr style=\"text-align: right;\">\n",
       "      <th></th>\n",
       "      <th>year</th>\n",
       "      <th>month</th>\n",
       "      <th>customer_name</th>\n",
       "      <th>customer_total_spend</th>\n",
       "      <th>rank_customer_by_amount</th>\n",
       "      <th>customer_total_purchases</th>\n",
       "      <th>rank_customer_by_total_purchases</th>\n",
       "      <th>customer_total_discount_amount</th>\n",
       "      <th>rank_customer_by_discount_recived</th>\n",
       "    </tr>\n",
       "  </thead>\n",
       "  <tbody>\n",
       "    <tr>\n",
       "      <th>0</th>\n",
       "      <td>2020</td>\n",
       "      <td>1</td>\n",
       "      <td>Antão Corte-Real</td>\n",
       "      <td>535900.42</td>\n",
       "      <td>1</td>\n",
       "      <td>61</td>\n",
       "      <td>1</td>\n",
       "      <td>18598.34</td>\n",
       "      <td>1</td>\n",
       "    </tr>\n",
       "    <tr>\n",
       "      <th>1</th>\n",
       "      <td>2020</td>\n",
       "      <td>1</td>\n",
       "      <td>Cidália Miera</td>\n",
       "      <td>290705.97</td>\n",
       "      <td>2</td>\n",
       "      <td>34</td>\n",
       "      <td>2</td>\n",
       "      <td>11938.38</td>\n",
       "      <td>2</td>\n",
       "    </tr>\n",
       "    <tr>\n",
       "      <th>2</th>\n",
       "      <td>2020</td>\n",
       "      <td>1</td>\n",
       "      <td>Celestino Pereira</td>\n",
       "      <td>62342.32</td>\n",
       "      <td>10</td>\n",
       "      <td>5</td>\n",
       "      <td>14</td>\n",
       "      <td>5866.57</td>\n",
       "      <td>3</td>\n",
       "    </tr>\n",
       "    <tr>\n",
       "      <th>3</th>\n",
       "      <td>2020</td>\n",
       "      <td>1</td>\n",
       "      <td>Bárbara Magalhães</td>\n",
       "      <td>18402.00</td>\n",
       "      <td>26</td>\n",
       "      <td>1</td>\n",
       "      <td>40</td>\n",
       "      <td>5704.62</td>\n",
       "      <td>4</td>\n",
       "    </tr>\n",
       "    <tr>\n",
       "      <th>4</th>\n",
       "      <td>2020</td>\n",
       "      <td>1</td>\n",
       "      <td>Guadalupe Rodrigues</td>\n",
       "      <td>87541.20</td>\n",
       "      <td>6</td>\n",
       "      <td>3</td>\n",
       "      <td>24</td>\n",
       "      <td>5142.52</td>\n",
       "      <td>5</td>\n",
       "    </tr>\n",
       "  </tbody>\n",
       "</table>\n",
       "</div>"
      ],
      "text/plain": [
       "   year  month        customer_name  customer_total_spend  \\\n",
       "0  2020      1     Antão Corte-Real             535900.42   \n",
       "1  2020      1        Cidália Miera             290705.97   \n",
       "2  2020      1    Celestino Pereira              62342.32   \n",
       "3  2020      1    Bárbara Magalhães              18402.00   \n",
       "4  2020      1  Guadalupe Rodrigues              87541.20   \n",
       "\n",
       "   rank_customer_by_amount  customer_total_purchases  \\\n",
       "0                        1                        61   \n",
       "1                        2                        34   \n",
       "2                       10                         5   \n",
       "3                       26                         1   \n",
       "4                        6                         3   \n",
       "\n",
       "   rank_customer_by_total_purchases  customer_total_discount_amount  \\\n",
       "0                                 1                        18598.34   \n",
       "1                                 2                        11938.38   \n",
       "2                                14                         5866.57   \n",
       "3                                40                         5704.62   \n",
       "4                                24                         5142.52   \n",
       "\n",
       "   rank_customer_by_discount_recived  \n",
       "0                                  1  \n",
       "1                                  2  \n",
       "2                                  3  \n",
       "3                                  4  \n",
       "4                                  5  "
      ]
     },
     "execution_count": 81,
     "metadata": {},
     "output_type": "execute_result"
    }
   ],
   "source": [
    "df_top_customers.filter(F.col(\"year\")==2020).takePandas()"
   ]
  },
  {
   "cell_type": "markdown",
   "metadata": {},
   "source": [
    "<h1>store metrics\n"
   ]
  },
  {
   "cell_type": "code",
   "execution_count": 83,
   "metadata": {},
   "outputs": [],
   "source": [
    "#month over month\n",
    "#month distribuition , by amount , by untary sales\n",
    "#understand general store metrics"
   ]
  },
  {
   "cell_type": "code",
   "execution_count": 84,
   "metadata": {},
   "outputs": [
    {
     "data": {
      "text/html": [
       "<div>\n",
       "<style scoped>\n",
       "    .dataframe tbody tr th:only-of-type {\n",
       "        vertical-align: middle;\n",
       "    }\n",
       "\n",
       "    .dataframe tbody tr th {\n",
       "        vertical-align: top;\n",
       "    }\n",
       "\n",
       "    .dataframe thead th {\n",
       "        text-align: right;\n",
       "    }\n",
       "</style>\n",
       "<table border=\"1\" class=\"dataframe\">\n",
       "  <thead>\n",
       "    <tr style=\"text-align: right;\">\n",
       "      <th></th>\n",
       "      <th>sale_id</th>\n",
       "      <th>seller_id</th>\n",
       "      <th>customer_id</th>\n",
       "      <th>date</th>\n",
       "      <th>sale_total_amount</th>\n",
       "    </tr>\n",
       "  </thead>\n",
       "  <tbody>\n",
       "    <tr>\n",
       "      <th>0</th>\n",
       "      <td>1</td>\n",
       "      <td>1</td>\n",
       "      <td>91</td>\n",
       "      <td>1/1/2019</td>\n",
       "      <td>8053.60</td>\n",
       "    </tr>\n",
       "    <tr>\n",
       "      <th>1</th>\n",
       "      <td>2</td>\n",
       "      <td>6</td>\n",
       "      <td>185</td>\n",
       "      <td>1/1/2020</td>\n",
       "      <td>150.40</td>\n",
       "    </tr>\n",
       "    <tr>\n",
       "      <th>2</th>\n",
       "      <td>3</td>\n",
       "      <td>7</td>\n",
       "      <td>31</td>\n",
       "      <td>2/1/2020</td>\n",
       "      <td>6087.00</td>\n",
       "    </tr>\n",
       "    <tr>\n",
       "      <th>3</th>\n",
       "      <td>4</td>\n",
       "      <td>5</td>\n",
       "      <td>31</td>\n",
       "      <td>2/1/2019</td>\n",
       "      <td>13828.60</td>\n",
       "    </tr>\n",
       "    <tr>\n",
       "      <th>4</th>\n",
       "      <td>5</td>\n",
       "      <td>5</td>\n",
       "      <td>31</td>\n",
       "      <td>3/1/2018</td>\n",
       "      <td>26096.66</td>\n",
       "    </tr>\n",
       "  </tbody>\n",
       "</table>\n",
       "</div>"
      ],
      "text/plain": [
       "   sale_id  seller_id  customer_id      date  sale_total_amount\n",
       "0        1          1           91  1/1/2019            8053.60\n",
       "1        2          6          185  1/1/2020             150.40\n",
       "2        3          7           31  2/1/2020            6087.00\n",
       "3        4          5           31  2/1/2019           13828.60\n",
       "4        5          5           31  3/1/2018           26096.66"
      ]
     },
     "execution_count": 84,
     "metadata": {},
     "output_type": "execute_result"
    }
   ],
   "source": [
    "df_sales.takePandas()"
   ]
  },
  {
   "cell_type": "code",
   "execution_count": 85,
   "metadata": {},
   "outputs": [
    {
     "name": "stdout",
     "output_type": "stream",
     "text": [
      "root\n",
      " |-- sale_id: long (nullable = true)\n",
      " |-- seller_id: long (nullable = true)\n",
      " |-- customer_id: long (nullable = true)\n",
      " |-- date: string (nullable = true)\n",
      " |-- sale_total_amount: double (nullable = true)\n",
      "\n"
     ]
    }
   ],
   "source": [
    "df_sales.printSchema()"
   ]
  },
  {
   "cell_type": "code",
   "execution_count": 86,
   "metadata": {},
   "outputs": [],
   "source": [
    "df_store_metrics = (df_sales.withColumn(\"date\",F.to_date(F.to_timestamp(F.col(\"date\"),\"d/m/yyyy\")))\n",
    "                            .withColumn(\"month_of_year\",F.month(F.col(\"date\")))\n",
    "                            .withColumn(\"year\",F.year(F.col(\"date\")))\n",
    "                            #.withColumn(\"week_of_month\",F.floor((F.weekofyear(F.col(\"date\"))/F.col(\"month_of_year\"))))\n",
    "                            )"
   ]
  },
  {
   "cell_type": "code",
   "execution_count": 87,
   "metadata": {},
   "outputs": [],
   "source": [
    "df_store_metrics_monthly = (df_store_metrics.groupBy(\"year\",\"month_of_year\")\n",
    "                                            .agg(\n",
    "                                                F.sum(F.col(\"sale_total_amount\")).alias(\"total_month_sales_amount\"),\n",
    "                                                F.count(F.col(\"sale_id\")).alias(\"total_month_uniques_sales\")\n",
    "                                                )\n",
    "                            )"
   ]
  },
  {
   "cell_type": "code",
   "execution_count": 88,
   "metadata": {},
   "outputs": [
    {
     "data": {
      "text/html": [
       "<div>\n",
       "<style scoped>\n",
       "    .dataframe tbody tr th:only-of-type {\n",
       "        vertical-align: middle;\n",
       "    }\n",
       "\n",
       "    .dataframe tbody tr th {\n",
       "        vertical-align: top;\n",
       "    }\n",
       "\n",
       "    .dataframe thead th {\n",
       "        text-align: right;\n",
       "    }\n",
       "</style>\n",
       "<table border=\"1\" class=\"dataframe\">\n",
       "  <thead>\n",
       "    <tr style=\"text-align: right;\">\n",
       "      <th></th>\n",
       "      <th>year</th>\n",
       "      <th>month_of_year</th>\n",
       "      <th>total_month_sales_amount</th>\n",
       "      <th>total_month_uniques_sales</th>\n",
       "    </tr>\n",
       "  </thead>\n",
       "  <tbody>\n",
       "    <tr>\n",
       "      <th>0</th>\n",
       "      <td>2018</td>\n",
       "      <td>1</td>\n",
       "      <td>1079389.88</td>\n",
       "      <td>133</td>\n",
       "    </tr>\n",
       "    <tr>\n",
       "      <th>1</th>\n",
       "      <td>2019</td>\n",
       "      <td>1</td>\n",
       "      <td>1138664.78</td>\n",
       "      <td>147</td>\n",
       "    </tr>\n",
       "    <tr>\n",
       "      <th>2</th>\n",
       "      <td>2020</td>\n",
       "      <td>1</td>\n",
       "      <td>836108.07</td>\n",
       "      <td>120</td>\n",
       "    </tr>\n",
       "  </tbody>\n",
       "</table>\n",
       "</div>"
      ],
      "text/plain": [
       "   year  month_of_year  total_month_sales_amount  total_month_uniques_sales\n",
       "0  2018              1                1079389.88                        133\n",
       "1  2019              1                1138664.78                        147\n",
       "2  2020              1                 836108.07                        120"
      ]
     },
     "execution_count": 88,
     "metadata": {},
     "output_type": "execute_result"
    }
   ],
   "source": [
    "df_store_metrics_monthly.takePandas()"
   ]
  },
  {
   "cell_type": "code",
   "execution_count": null,
   "metadata": {},
   "outputs": [],
   "source": [
    "#few datas , going to mock some to plot a graph"
   ]
  },
  {
   "cell_type": "code",
   "execution_count": 89,
   "metadata": {},
   "outputs": [],
   "source": [
    "def addMockData(df,years=[2019,2020,2021]):\n",
    "\n",
    "    import random as R\n",
    "\n",
    "    months = [2,3,4,5,6,7,8,9,10,11,12]\n",
    "\n",
    "    avg_sale_total_amount     = df.select(F.expr(\"avg(total_month_sales_amount)\")).collect()[0][0]\n",
    "    avg_month_uniques_sales = df.select(F.expr(\"avg(total_month_uniques_sales)\")).collect()[0][0]\n",
    "\n",
    "    data   = []\n",
    "\n",
    "    for year in years:\n",
    "        for month in months :\n",
    "            \n",
    "            total_month_sales_amount  = avg_sale_total_amount   * R.uniform(0.8,1.25)\n",
    "            total_month_uniques_sales = round(avg_month_uniques_sales * R.uniform(0.8,1.25))\n",
    "            data.append({\"year\":f\"{year}\",\"month_of_year\":f\"{month}\",\"total_month_sales_amount\":f\"{total_month_sales_amount}\",\"total_month_uniques_sales\":f\"{total_month_uniques_sales}\"})\n",
    "    \n",
    "    df_to_append = pd.DataFrame(data)\n",
    "    df_to_append.to_csv(\"temp.csv\",index=False,header=True)\n",
    "\n",
    "    df_mocked = (df.unionByName(spark.read.csv(\"temp.csv\",header=True))\n",
    "                    .withColumn(\"total_month_sales_amount\",F.round(F.col(\"total_month_sales_amount\"),2))\n",
    "                    .withColumn(\"year\",F.col(\"year\").cast(\"int\"))\n",
    "                    .withColumn(\"month_of_year\",F.col(\"month_of_year\").cast(\"int\"))\n",
    "                    .withColumn(\"total_month_uniques_sales\",F.col(\"total_month_uniques_sales\").cast(\"int\")))\n",
    "\n",
    "    return df_mocked\n"
   ]
  },
  {
   "cell_type": "code",
   "execution_count": 90,
   "metadata": {},
   "outputs": [],
   "source": [
    "df_store_metrics_monthly_mocked = addMockData(df_store_metrics_monthly)"
   ]
  },
  {
   "cell_type": "code",
   "execution_count": 91,
   "metadata": {},
   "outputs": [],
   "source": [
    "store_metrics_monthly_window = Window.orderBy(\"year\",\"month_of_year\")"
   ]
  },
  {
   "cell_type": "code",
   "execution_count": 96,
   "metadata": {},
   "outputs": [],
   "source": [
    "df_store_metrics_monthly_final = (df_store_metrics_monthly_mocked.withColumn(\"row_number\",F.row_number().over(store_metrics_monthly_window))\n",
    "            .withColumn(\"MoM\",\n",
    "                        F.when(F.col(\"row_number\")==1   ,  \"0\")\n",
    "                        .otherwise(\n",
    "                                    F.round(\n",
    "                                            ((F.lag(\"total_month_sales_amount\").over(Window.orderBy(\"row_number\"))/F.col(\"total_month_sales_amount\"))-1)    *   100,2)))\n",
    "            .withColumn(\"year_month\",F.concat(F.col(\"year\"),F.lit(\"_\"),F.col(\"month_of_year\")))\n",
    "            .drop(\"row_number\"))"
   ]
  },
  {
   "cell_type": "code",
   "execution_count": 107,
   "metadata": {},
   "outputs": [
    {
     "name": "stdout",
     "output_type": "stream",
     "text": [
      "root\n",
      " |-- year: integer (nullable = true)\n",
      " |-- month_of_year: integer (nullable = true)\n",
      " |-- total_month_sales_amount: double (nullable = true)\n",
      " |-- total_month_uniques_sales: integer (nullable = true)\n",
      " |-- MoM: string (nullable = true)\n",
      " |-- year_month: string (nullable = true)\n",
      "\n"
     ]
    }
   ],
   "source": [
    "df_store_metrics_monthly_final.printSchema()"
   ]
  },
  {
   "cell_type": "code",
   "execution_count": 102,
   "metadata": {},
   "outputs": [
    {
     "data": {
      "text/plain": [
       "[<matplotlib.lines.Line2D at 0x143c2471350>]"
      ]
     },
     "execution_count": 102,
     "metadata": {},
     "output_type": "execute_result"
    },
    {
     "data": {
      "image/png": "[encoded data removed]",
      "text/plain": [
       "<Figure size 2500x500 with 2 Axes>"
      ]
     },
     "metadata": {},
     "output_type": "display_data"
    }
   ],
   "source": [
    "fig , ax1 = plt.subplots(figsize=(25,5))\n",
    "\n",
    "ax1.set_ylabel('amount', color='g')\n",
    "ax1.tick_params(axis='y', labelcolor='g')\n",
    "ax1.bar(df_store_metrics_monthly_final.toPandas()['year_month'],df_store_metrics_monthly_final.toPandas()['total_month_sales_amount'],color=\"g\")\n",
    "\n",
    "ax1.tick_params(axis='x',rotation=90)\n",
    "\n",
    "ax2 = ax1.twinx()\n",
    "ax2.set_ylabel(\"sales\",color='b')\n",
    "ax2.tick_params(axis='y', labelcolor='b')\n",
    "ax2.plot(df_store_metrics_monthly_final.toPandas()['year_month'],df_store_metrics_monthly_final.toPandas()['total_month_uniques_sales'],color='b', marker='o')"
   ]
  },
  {
   "cell_type": "code",
   "execution_count": 103,
   "metadata": {},
   "outputs": [],
   "source": [
    "#this graph does not show any tendencies , because its a random mocked data ..."
   ]
  },
  {
   "cell_type": "code",
   "execution_count": null,
   "metadata": {},
   "outputs": [
    {
     "data": {
      "image/png": "[encoded data removed]",
      "text/plain": [
       "<Figure size 2500x500 with 1 Axes>"
      ]
     },
     "metadata": {},
     "output_type": "display_data"
    }
   ],
   "source": [
    "fig,ax = plt.subplots(figsize=(25,5))\n",
    "\n",
    "x = df_store_metrics_monthly_final.toPandas()['year_month']\n",
    "y = df_store_metrics_monthly_final.withColumn(\"MoM\",F.col(\"MoM\").cast(\"int\")).toPandas()['MoM']\n",
    "ax.plot(x,y, color=\"black\", label=\"MoM %\")\n",
    "\n",
    "ax.axhspan(0, y.max(), color='green', alpha=0.3, label=\"positive MoM\")\n",
    "ax.axhspan(y.min(), 0, color='red', alpha=0.3, label=\"Negative MoM\")\n",
    "\n",
    "ax.plot(x, y, color=\"black\", label=\"MoM %\")\n",
    "\n",
    "ax.tick_params(axis='x', rotation=90)\n",
    "ax.set_ylabel(\"% MoM\")\n",
    "ax.set_xlabel(\"month\")\n",
    "ax.axhline(0, color=\"black\", linewidth=0.5, linestyle=\"--\") \n",
    "ax.legend()\n",
    "ax.grid(True, linestyle=\"--\", alpha=0.5)\n",
    "\n",
    "plt.show()"
   ]
  },
  {
   "cell_type": "code",
   "execution_count": null,
   "metadata": {},
   "outputs": [],
   "source": []
  }
 ],
 "metadata": {
  "kernelspec": {
   "display_name": "Python 3",
   "language": "python",
   "name": "python3"
  },
  "language_info": {
   "codemirror_mode": {
    "name": "ipython",
    "version": 3
   },
   "file_extension": ".py",
   "mimetype": "text/x-python",
   "name": "python",
   "nbconvert_exporter": "python",
   "pygments_lexer": "ipython3",
   "version": "3.11.6"
  }
 },
 "nbformat": 4,
 "nbformat_minor": 2
}
